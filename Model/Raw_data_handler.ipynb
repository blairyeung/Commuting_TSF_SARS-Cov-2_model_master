{
 "cells": [
  {
   "cell_type": "code",
   "execution_count": 1,
   "metadata": {
    "collapsed": true
   },
   "outputs": [],
   "source": [
    "import numpy\n",
    "import pandas as pd\n",
    "import os\n",
    "import numpy as np\n",
    "import Parameters\n",
    "from Dependency import Dependency"
   ]
  },
  {
   "cell_type": "code",
   "execution_count": 2,
   "outputs": [
    {
     "name": "stdout",
     "output_type": "stream",
     "text": [
      "Algoma Public Health\n",
      "15475.61628 Why?\n",
      "(1083, 3, 16)\n",
      "-1.7763568394002505e-15\n",
      "Brant County Health Unit\n",
      "15338.014980000002 Why?\n",
      "(1083, 3, 16)\n",
      "2.6645352591003757e-15\n",
      "Durham Region Health Department \n",
      "16218.377840000003 Why?\n",
      "(1083, 3, 16)\n",
      "-8.881784197001252e-16\n",
      "Grey Bruce Health Unit\n",
      "14586.595539999998 Why?\n",
      "(1083, 3, 16)\n",
      "8.881784197001252e-16\n",
      "Haldimand-Norfolk Health Unit\n",
      "14230.12212 Why?\n",
      "(1083, 3, 16)\n",
      "-8.881784197001252e-16\n",
      "Haliburton, Kawartha, Pine Ridge District Health Unit \n",
      "15060.66968 Why?\n",
      "(1083, 3, 16)\n",
      "-1.7763568394002505e-15\n",
      "Halton Region Public Health\n",
      "16578.959639999997 Why?\n",
      "(1083, 3, 16)\n",
      "-3.552713678800501e-15\n",
      "City of Hamilton Public Health Services\n",
      "15498.857539999999 Why?\n",
      "(1083, 3, 16)\n",
      "3.552713678800501e-15\n",
      "Hastings Prince Edward Public Health\n",
      "14970.247739999999 Why?\n",
      "(1083, 3, 16)\n",
      "1.7763568394002505e-15\n",
      "Chatham-Kent Public Health\n",
      "14732.567400000002 Why?\n",
      "(1083, 3, 16)\n",
      "0.0\n",
      "Kingston, Frontenac and Lennox & Addington Public Health\n",
      "16712.817600000002 Why?\n",
      "(1083, 3, 16)\n",
      "0.0\n",
      "Lambton Public Health\n",
      "14583.356660000001 Why?\n",
      "(1083, 3, 16)\n",
      "0.0\n",
      "Leeds, Grenville & Lanark District Health Unit\n",
      "16605.0148 Why?\n",
      "(1083, 3, 16)\n",
      "1.7763568394002505e-15\n",
      "Middlesex-London Health Unit\n",
      "16322.14644 Why?\n",
      "(1083, 3, 16)\n",
      "-5.329070518200751e-15\n",
      "Niagara Region Public Health\n",
      "15394.6334 Why?\n",
      "(1083, 3, 16)\n",
      "-1.7763568394002505e-15\n",
      "North Bay Parry Sound District Health Unit\n",
      "14985.7894 Why?\n",
      "(1083, 3, 16)\n",
      "0.0\n",
      "Northwestern Health Unit\n",
      "16700.768340000002 Why?\n",
      "(1083, 3, 16)\n",
      "0.0\n",
      "Ottawa Public Health\n",
      "16864.121160000002 Why?\n",
      "(1083, 3, 16)\n",
      "-3.552713678800501e-15\n",
      "Peel Public Health\n",
      "15648.36004 Why?\n",
      "(1083, 3, 16)\n",
      "-1.7763568394002505e-15\n",
      "Peterborough Public Health \n",
      "15534.59762 Why?\n",
      "(1083, 3, 16)\n",
      "-2.6645352591003757e-15\n",
      "Porcupine Health Unit\n",
      "15219.60788 Why?\n",
      "(1083, 3, 16)\n",
      "-1.7763568394002505e-15\n",
      "Renfrew County and District Health Unit\n",
      "14618.17486 Why?\n",
      "(1083, 3, 16)\n",
      "1.7763568394002505e-15\n",
      "Eastern Ontario Health Unit\n",
      "15446.94482 Why?\n",
      "(1083, 3, 16)\n",
      "1.7763568394002505e-15\n",
      "Simcoe Muskoka District Health Unit \n",
      "15292.419100000001 Why?\n",
      "(1083, 3, 16)\n",
      "0.0\n",
      "Public Health Sudbury & Districts\n",
      "15537.129939999999 Why?\n",
      "(1083, 3, 16)\n",
      "-4.440892098500626e-15\n",
      "Thunder Bay District Health Unit\n",
      "15910.137599999998 Why?\n",
      "(1083, 3, 16)\n",
      "-3.552713678800501e-15\n",
      "Timiskaming Health Unit\n",
      "14890.77276 Why?\n",
      "(1083, 3, 16)\n",
      "3.552713678800501e-15\n",
      "Region of Waterloo Public Health and Emergency Services\n",
      "16185.929839999999 Why?\n",
      "(1083, 3, 16)\n",
      "0.0\n",
      "Wellington-Dufferin-Guelph Public Health\n",
      "16072.80626 Why?\n",
      "(1083, 3, 16)\n",
      "3.552713678800501e-15\n",
      "Windsor-Essex County Health Unit \n",
      "15399.61018 Why?\n",
      "(1083, 3, 16)\n",
      "0.0\n",
      "York Region Public Health\n",
      "15989.314400000001 Why?\n",
      "(1083, 3, 16)\n",
      "0.0\n",
      "Toronto Public Health\n",
      "16030.05888 Why?\n",
      "(1083, 3, 16)\n",
      "0.0\n",
      "Southwestern Public Health\n",
      "14980.838560000002 Why?\n",
      "(1083, 3, 16)\n",
      "-4.440892098500626e-15\n",
      "Huron Perth Health Unit\n",
      "15342.837539999997 Why?\n",
      "(1083, 3, 16)\n",
      "8.881784197001252e-16\n",
      "Unknown\n",
      "0.0 Why?\n",
      "(1083, 3, 16)\n",
      "0.0\n"
     ]
    }
   ],
   "source": [
    "dependency = Dependency()"
   ],
   "metadata": {
    "collapsed": false
   }
  },
  {
   "cell_type": "code",
   "execution_count": 3,
   "outputs": [],
   "source": [
    "value_vars = ['At least 1 dose coverage (%): under 5','At least 1 dose coverage (%): 5 - 11','At least 1 dose coverage (%): 12 - 17','At least 1 dose coverage (%): 18 - 29','At least 1 dose coverage (%): 30 - 39','At least 1 dose coverage (%): 40 - 49','At least 1 dose coverage (%): 50 - 59','At least 1 dose coverage (%): 60 - 69','At least 1 dose coverage (%): 70 - 79','At least 1 dose coverage (%): 80+','Completed primary series coverage (%): under 5','Completed primary series coverage (%): 5 - 11','Completed primary series coverage (%): 12 - 17','Completed primary series coverage (%): 18 - 29','Completed primary series coverage (%): 30 - 39','Completed primary series coverage (%): 40 - 49','Completed primary series coverage (%): 50 - 59','Completed primary series coverage (%): 60 - 69','Completed primary series coverage (%): 70 - 79','Completed primary series coverage (%): 80+','Completed primary series and 1 booster dose coverage (%): 5 - 11','Completed primary series and 1 booster dose coverage (%): 12 - 17','Completed primary series and 1 booster dose coverage (%): 18 - 29','Completed primary series and 1 booster dose coverage (%): 30 - 39','Completed primary series and 1 booster dose coverage (%): 40 - 49','Completed primary series and 1 booster dose coverage (%): 50 - 59','Completed primary series and 1 booster dose coverage (%): 60 - 69','Completed primary series and 1 booster dose coverage (%): 70 - 79','Completed primary series and 1 booster dose coverage (%): 80+','Completed primary series and 2 booster doses coverage (%): 12 - 17','Completed primary series and 2 booster doses coverage (%): 18 - 29','Completed primary series and 2 booster doses coverage (%): 30 - 39','Completed primary series and 2 booster doses coverage (%): 40 - 49','Completed primary series and 2 booster doses coverage (%): 50 - 59','Completed primary series and 2 booster doses coverage (%): 60 - 69','Completed primary series and 2 booster doses coverage (%): 70 - 79','Completed primary series and 2 booster doses coverage (%): 80+', 'Dose 5', 'Dose 6']"
   ],
   "metadata": {
    "collapsed": false
   }
  },
  {
   "cell_type": "code",
   "execution_count": 4,
   "outputs": [
    {
     "name": "stdout",
     "output_type": "stream",
     "text": [
      "['under 5', '5 - 11', '12 - 17', '18 - 29', '30 - 39', '40 - 49', '50 - 59', '60 - 69', '70 - 79', '80+']\n",
      "['At least 1 dose coverage (%):', 'Completed primary series coverage (%):', 'Completed primary series and 1 booster dose coverage (%):', 'Completed primary series and 2 booster doses coverage (%):']\n"
     ]
    }
   ],
   "source": [
    "age_bands = ['under 5', '5 - 11', '12 - 17', '18 - 29', '30 - 39', '40 - 49', '50 - 59', '60 - 69', '70 - 79', '80+']\n",
    "vaccine_dose_descrpition = ['At least 1 dose coverage (%):', 'Completed primary series coverage (%):', 'Completed primary series and 1 booster dose coverage (%):', 'Completed primary series and 2 booster doses coverage (%):']\n",
    "print(age_bands)\n",
    "print(vaccine_dose_descrpition)"
   ],
   "metadata": {
    "collapsed": false
   }
  },
  {
   "cell_type": "code",
   "execution_count": 22,
   "outputs": [],
   "source": [
    "def read_vaccine():\n",
    "    path =  os.getcwd()[:-5] + 'Model Dependencies/' + 'All Covid-19 vaccine trends data.csv'\n",
    "    vaccine_df = pd.read_csv(path)\n",
    "    vaccine_df['Date'] = pd.to_datetime(vaccine_df['Date'])\n",
    "    vaccine_df.replace('At least 1 dose coverage (%): ', '')\n",
    "\n",
    "    grouped = vaccine_df.groupby('Geographic area')\n",
    "\n",
    "    vaccine_by_phu = dict()\n",
    "\n",
    "\n",
    "    for g in grouped.groups:\n",
    "        if not g in dependency.phu_to_district:\n",
    "           continue\n",
    "\n",
    "        data = np.zeros(shape=(len(vaccine_dose_descrpition), len(age_bands), dependency.total_days))\n",
    "\n",
    "        print(data.shape)\n",
    "\n",
    "        group = grouped.get_group(g)\n",
    "\n",
    "        pre = (group['Date'].min() - Parameters.OUTBREAK_FIRST_DAY).days - 1\n",
    "        sur = dependency.total_days - (group['Date'].max() - Parameters.OUTBREAK_FIRST_DAY).days\n",
    "\n",
    "        for i in range(len(vaccine_dose_descrpition)):\n",
    "             for j in range(len(age_bands)):\n",
    "                combined = vaccine_dose_descrpition[i] + ' ' + age_bands[j]\n",
    "                if not combined in vaccine_df.keys():\n",
    "                    continue\n",
    "                stratified_data = np.concatenate([np.zeros(shape=pre, ), group[combined].to_numpy(), np.zeros(shape=sur, )])\n",
    "                data[i][j] = stratified_data\n",
    "\n",
    "        data = data.transpose(0, 1, 2)\n",
    "\n",
    "        vaccine_by_phu[g] = data\n",
    "\n",
    "    return vaccine_by_phu"
   ],
   "metadata": {
    "collapsed": false
   }
  },
  {
   "cell_type": "code",
   "execution_count": 24,
   "outputs": [
    {
     "name": "stdout",
     "output_type": "stream",
     "text": [
      "(4, 10, 1083)\n",
      "(4, 10, 1083)\n",
      "(4, 10, 1083)\n",
      "(4, 10, 1083)\n",
      "(4, 10, 1083)\n",
      "(4, 10, 1083)\n",
      "(4, 10, 1083)\n",
      "(4, 10, 1083)\n",
      "(4, 10, 1083)\n",
      "(4, 10, 1083)\n",
      "(4, 10, 1083)\n",
      "(4, 10, 1083)\n",
      "(4, 10, 1083)\n",
      "(4, 10, 1083)\n",
      "(4, 10, 1083)\n",
      "(4, 10, 1083)\n",
      "(4, 10, 1083)\n",
      "(4, 10, 1083)\n",
      "(4, 10, 1083)\n",
      "(4, 10, 1083)\n",
      "(4, 10, 1083)\n",
      "(4, 10, 1083)\n",
      "(4, 10, 1083)\n",
      "(4, 10, 1083)\n",
      "(4, 10, 1083)\n",
      "(4, 10, 1083)\n",
      "(4, 10, 1083)\n",
      "(4, 10, 1083)\n",
      "(4, 10, 1083)\n",
      "(4, 10, 1083)\n",
      "(4, 10, 1083)\n",
      "(4, 10, 1083)\n",
      "(4, 10, 1083)\n",
      "True\n"
     ]
    }
   ],
   "source": [
    "data = read_vaccine()"
   ],
   "metadata": {
    "collapsed": false
   }
  }
 ],
 "metadata": {
  "kernelspec": {
   "display_name": "Python 3",
   "language": "python",
   "name": "python3"
  },
  "language_info": {
   "codemirror_mode": {
    "name": "ipython",
    "version": 2
   },
   "file_extension": ".py",
   "mimetype": "text/x-python",
   "name": "python",
   "nbconvert_exporter": "python",
   "pygments_lexer": "ipython2",
   "version": "2.7.6"
  }
 },
 "nbformat": 4,
 "nbformat_minor": 0
}
