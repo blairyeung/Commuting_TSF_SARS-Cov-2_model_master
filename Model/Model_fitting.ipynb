{
 "cells": [
  {
   "cell_type": "code",
   "execution_count": 1,
   "metadata": {
    "collapsed": true
   },
   "outputs": [],
   "source": [
    "from Model import Model\n",
    "import Parameters\n",
    "import datetime\n",
    "import numpy as np\n",
    "import matplotlib.pyplot as plt\n",
    "import pathlib\n",
    "import pandas as pd\n",
    "import Util"
   ]
  },
  {
   "cell_type": "code",
   "execution_count": 2,
   "metadata": {
    "collapsed": false
   },
   "outputs": [],
   "source": [
    "def moving_average_compare(data):\n",
    "    return Util.moving_average(data[0,0:,:])"
   ]
  },
  {
   "cell_type": "code",
   "execution_count": 3,
   "metadata": {
    "collapsed": false
   },
   "outputs": [],
   "source": [
    "def moving_average_compare_vaccine(data, index):\n",
    "    return Util.moving_average(data[index,0:,:])"
   ]
  },
  {
   "cell_type": "code",
   "execution_count": 4,
   "metadata": {
    "collapsed": false
   },
   "outputs": [],
   "source": [
    "def compute_sdd(act, predict):\n",
    "    difference = act - predict\n",
    "    return np.sum(np.square(difference))"
   ]
  },
  {
   "cell_type": "code",
   "execution_count": null,
   "metadata": {
    "collapsed": false,
    "pycharm": {
     "is_executing": true
    }
   },
   "outputs": [],
   "source": [
    "infectiousness = 0.09\n",
    "monthly_multipliers = np.array([0.6, 0.7, 0.9, 1.2, 0.7, 1, 1, 1, 1])\n",
    "# infectiousness = 0.008\n",
    "m1 = Model(forecast_days=0, infectiousness=infectiousness)\n",
    "m2 = Model(forecast_days=0, infectiousness=infectiousness, prior_immunity=0)\n",
    "start_date = datetime.datetime(2020, 1, 15)\n",
    "forecast_start_date = datetime.datetime(2022, 1, 1)\n",
    "start_date = (forecast_start_date - start_date).days\n",
    "print(start_date)\n",
    "m1.date = start_date"
   ]
  },
  {
   "cell_type": "code",
   "execution_count": null,
   "outputs": [],
   "source": [
    "def compute_previous_immunity():\n",
    "    for i in range(1072):\n",
    "        m1._compute_immunity(i)\n",
    "\n",
    "        if i % 200 == 10:\n",
    "\n",
    "            x = [Parameters.OUTBREAK_FIRST_DAY + datetime.timedelta(days=j) for j in range(1072)]\n",
    "            for j in range(16):\n",
    "                slice = m1._model_data.time_series_immunity[0].T[j].T\n",
    "                plt.plot(x, slice, label=j)\n",
    "            plt.legend()\n",
    "            plt.xticks(rotation=45, ha='right')\n",
    "            plt.title('Predicted immunity')\n",
    "            plt.show()\n",
    "        m2.print_data(m1.date)"
   ],
   "metadata": {
    "collapsed": false,
    "pycharm": {
     "is_executing": true
    }
   }
  },
  {
   "attachments": {},
   "cell_type": "markdown",
   "metadata": {
    "collapsed": false
   },
   "source": [
    "# Pre-run plotting"
   ]
  },
  {
   "cell_type": "code",
   "execution_count": null,
   "metadata": {
    "collapsed": false,
    "pycharm": {
     "is_executing": true
    }
   },
   "outputs": [],
   "source": [
    "ground_truth_data = m2._model_data\n",
    "immunity = moving_average_compare(ground_truth_data.time_series_immunity)\n",
    "vaccinated1 = moving_average_compare_vaccine(ground_truth_data.time_series_vaccinated, 0)\n",
    "vaccinated2 = moving_average_compare_vaccine(ground_truth_data.time_series_vaccinated, 1)\n",
    "vaccinated3 = moving_average_compare_vaccine(ground_truth_data.time_series_vaccinated, 2)\n",
    "plt.figure(figsize=(15,4))\n",
    "plt.subplot()\n",
    "plt.subplot(1,3,1), plt.plot([Parameters.OUTBREAK_FIRST_DAY + datetime.timedelta(days=j) for j in range(1066)], np.mean(vaccinated1, axis=1)), plt.title('vaccine 1')\n",
    "plt.subplot(1,3,2), plt.plot([Parameters.OUTBREAK_FIRST_DAY + datetime.timedelta(days=j) for j in range(1066)], np.mean(vaccinated2, axis=1)), plt.title('vaccine 2')\n",
    "plt.subplot(1,3,3), plt.plot([Parameters.OUTBREAK_FIRST_DAY + datetime.timedelta(days=j) for j in range(1066)], np.mean(vaccinated3, axis=1)), plt.title('vaccine 3')\n",
    "print((ground_truth_data.time_series_vaccinated).shape)"
   ]
  },
  {
   "cell_type": "code",
   "execution_count": null,
   "metadata": {
    "collapsed": false,
    "pycharm": {
     "is_executing": true
    }
   },
   "outputs": [],
   "source": [
    "plt.figure(figsize=(15,4))\n",
    "plt.plot([Parameters.OUTBREAK_FIRST_DAY + datetime.timedelta(days=j) for j in range(3000)], m1.dependency.mobility)"
   ]
  },
  {
   "attachments": {},
   "cell_type": "markdown",
   "metadata": {},
   "source": [
    "### Waning kernels"
   ]
  },
  {
   "cell_type": "code",
   "execution_count": null,
   "metadata": {
    "pycharm": {
     "is_executing": true
    }
   },
   "outputs": [],
   "source": [
    "plt.figure(figsize=(20,4))\n",
    "plt.subplot(1, 4, 1), plt.plot(Parameters.get_immunity_kernel(dose=0))\n",
    "plt.subplot(1, 4, 2), plt.plot(Parameters.get_immunity_kernel(dose=1))\n",
    "plt.subplot(1, 4, 3), plt.plot(Parameters.get_immunity_kernel(dose=2))\n",
    "plt.subplot(1, 4, 4), plt.plot(Parameters.get_immunity_kernel(dose=3))"
   ]
  },
  {
   "cell_type": "code",
   "execution_count": null,
   "outputs": [],
   "source": [
    "plt.figure(figsize=(20,4))\n",
    "plt.subplot(1, 4, 1), plt.plot(Parameters.ONE_DOSE_EFFICACY_RMV)\n",
    "plt.subplot(1, 4, 2), plt.plot(Parameters.get_immunity_kernel(dose=1))\n",
    "plt.subplot(1, 4, 3), plt.plot(Parameters.TWO_DOSE_EFFICACY_RMV)\n",
    "plt.subplot(1, 4, 4), plt.plot(Parameters.get_immunity_kernel(dose=2))"
   ],
   "metadata": {
    "collapsed": false,
    "pycharm": {
     "is_executing": true
    }
   }
  },
  {
   "attachments": {},
   "cell_type": "markdown",
   "metadata": {},
   "source": [
    "# Compute immunity!"
   ]
  },
  {
   "cell_type": "code",
   "execution_count": null,
   "metadata": {
    "pycharm": {
     "is_executing": true
    }
   },
   "outputs": [],
   "source": [
    "# compute_previous_immunity()"
   ]
  },
  {
   "attachments": {},
   "cell_type": "markdown",
   "metadata": {},
   "source": [
    "## Run the model"
   ]
  },
  {
   "cell_type": "code",
   "execution_count": null,
   "metadata": {
    "collapsed": false,
    "pycharm": {
     "is_executing": true
    }
   },
   "outputs": [],
   "source": [
    "for i in range(1072-m1.date-1):\n",
    "    month = int(i / 30)\n",
    "    multiplier = monthly_multipliers[month] * infectiousness\n",
    "    m1.infectiousness = multiplier\n",
    "    m1.run_one_cycle(display_status=False)\n",
    "    if i % 50 == 10 or m1.date == 1071:\n",
    "\n",
    "        x = [Parameters.OUTBREAK_FIRST_DAY + datetime.timedelta(days=j+start_date) for j in range(m1.date-start_date)]\n",
    "        plt.figure(figsize=(15,4))\n",
    "        plt.subplot()\n",
    "        plt.subplot(1, 3, 1)\n",
    "        plt.plot(x, np.sum((m1._model_data.time_series_clinical_cases[0])[start_date:m1.date], axis=1), color='red', label='Forecast')\n",
    "        plt.plot(x, np.sum((m2._model_data.time_series_clinical_cases[0])[start_date:m1.date], axis=1), color='black', label='Ground_truth')\n",
    "        plt.legend()\n",
    "        plt.xticks(rotation=45, ha='right')\n",
    "        plt.title('Clinical cases')\n",
    "        plt.subplot(1, 3, 2)\n",
    "        for j in range(8):\n",
    "            slice = m1._model_data.time_series_immunity[0].T[j].T\n",
    "            plt.plot(x, slice[start_date:m1.date], label=Parameters.AGE_BANDS[j])\n",
    "        plt.legend()\n",
    "        plt.xticks(rotation=45, ha='right')\n",
    "        plt.title('Predicted immunity')\n",
    "        plt.subplot(1, 3, 3)\n",
    "        for j in range(8):\n",
    "            slice = m1._model_data.time_series_immunity[0].T[j+8].T\n",
    "            plt.plot(x, slice[start_date:m1.date], label=Parameters.AGE_BANDS[j+8])\n",
    "        plt.legend()\n",
    "        plt.xticks(rotation=45, ha='right')\n",
    "        plt.title('Predicted immunity')\n",
    "        plt.show()\n",
    "\n",
    "        plt.figure(figsize=(15,4))\n",
    "        plt.subplot()\n",
    "        plt.subplot(1, 2, 1)\n",
    "        plt.plot(x, np.sum((m1._model_data.time_series_hospitalized[0])[start_date:m1.date], axis=1), color='red', label='Forecast')\n",
    "        plt.plot(x, np.sum((m2._model_data.time_series_hospitalized[0])[start_date:m1.date], axis=1), color='black', label='Ground_truth')\n",
    "        plt.title('Hospitalized')\n",
    "        plt.xticks(rotation=45, ha='right')\n",
    "        plt.subplot(1, 2 ,2), plt.plot(np.mean(moving_average_compare_vaccine(m1._model_data.time_series_vaccinated, 2)[start_date:], axis=1)), plt.title('vaccine 3')\n",
    "        plt.title('Actual vaccinated')\n",
    "        plt.show()\n",
    "        plt.figure(figsize=(15,4))\n",
    "        plt.subplot(1, 2, 1)\n",
    "        plt.plot(x, Parameters.SEASONALITY[start_date:m1.date])\n",
    "        plt.plot(x, m1.dependency.mobility[start_date:m1.date])\n",
    "        plt.xticks(rotation=45, ha='right')\n",
    "        plt.subplot(1, 2, 2)\n",
    "        matrix = m1._synthesize_matrix(contact_type=0, contact_pattern='day') + m1._synthesize_matrix(contact_type=0, contact_pattern='night')\n",
    "        plt.imshow(matrix)\n",
    "        plt.colorbar()\n",
    "        plt.show()\n",
    "        plt.figure(figsize=(15,4))\n",
    "        plt.subplot(1, 4, 1), plt.plot(np.matmul(matrix.T, np.ones(shape=(16, 1))))\n",
    "        plt.subplot(1, 4, 2), plt.plot(np.matmul(matrix, np.ones(shape=(16, 1))))\n",
    "        plt.subplot(1, 4, 3), plt.plot(np.sum(matrix, axis=0))\n",
    "        plt.subplot(1, 4, 4), plt.plot(np.sum(matrix, axis=1))\n",
    "        plt.show()"
   ]
  },
  {
   "cell_type": "code",
   "execution_count": null,
   "metadata": {
    "collapsed": false,
    "pycharm": {
     "is_executing": true
    }
   },
   "outputs": [],
   "source": [
    "predicated_data = m1._model_data\n",
    "ground_truth_clinical = moving_average_compare(m2._model_data.time_series_clinical_cases)\n",
    "predicted_clinical = moving_average_compare(predicated_data.time_series_clinical_cases)\n",
    "print(compute_sdd(ground_truth_clinical, predicted_clinical))"
   ]
  },
  {
   "cell_type": "code",
   "execution_count": null,
   "metadata": {
    "collapsed": false,
    "pycharm": {
     "is_executing": true
    }
   },
   "outputs": [],
   "source": [
    "x = [Parameters.OUTBREAK_FIRST_DAY + datetime.timedelta(days=j) for j in range(1066)]\n",
    "\n",
    "plt.figure(figsize=(15,4))\n",
    "plt.subplot()\n",
    "plt.subplot(1, 2, 1), plt.plot(x, ground_truth_clinical)\n",
    "plt.xticks(rotation=45, ha='right')\n",
    "plt.subplot(1, 2, 2), plt.plot(x, predicted_clinical)\n",
    "plt.xticks(rotation=45, ha='right')\n",
    "plt.show()"
   ]
  },
  {
   "cell_type": "code",
   "execution_count": null,
   "metadata": {
    "collapsed": false,
    "pycharm": {
     "is_executing": true
    }
   },
   "outputs": [],
   "source": [
    "ground_truth_deaths = moving_average_compare(m2._model_data.time_series_deaths)\n",
    "predicted_deaths = moving_average_compare(m1._model_data.time_series_deaths)\n",
    "print(compute_sdd(ground_truth_deaths, predicted_deaths))"
   ]
  },
  {
   "cell_type": "code",
   "execution_count": null,
   "metadata": {
    "collapsed": false,
    "pycharm": {
     "is_executing": true
    }
   },
   "outputs": [],
   "source": [
    "plt.figure(figsize=(15,4))\n",
    "plt.subplot()\n",
    "plt.subplot(1, 2, 1), plt.plot(ground_truth_deaths)\n",
    "plt.subplot(1, 2, 2), plt.plot(predicted_deaths)\n",
    "plt.show()"
   ]
  },
  {
   "cell_type": "code",
   "execution_count": null,
   "metadata": {
    "collapsed": false,
    "pycharm": {
     "is_executing": true
    }
   },
   "outputs": [],
   "source": [
    "ground_truth_hosp = moving_average_compare(m2._model_data.time_series_hospitalized)\n",
    "predicted_hosp = moving_average_compare(m1._model_data.time_series_hospitalized)\n",
    "print(compute_sdd(ground_truth_hosp, predicted_hosp))"
   ]
  },
  {
   "cell_type": "code",
   "execution_count": null,
   "metadata": {
    "collapsed": false,
    "pycharm": {
     "is_executing": true
    }
   },
   "outputs": [],
   "source": [
    "plt.figure(figsize=(15,4))\n",
    "plt.subplot()\n",
    "plt.subplot(1, 2, 1), plt.plot(ground_truth_hosp)\n",
    "plt.subplot(1, 2, 2), plt.plot(predicted_hosp)\n",
    "plt.show()"
   ]
  },
  {
   "cell_type": "code",
   "execution_count": null,
   "metadata": {
    "collapsed": false,
    "pycharm": {
     "is_executing": true
    }
   },
   "outputs": [],
   "source": [
    "ground_truth_icu = moving_average_compare(m2._model_data.time_series_ICU)\n",
    "predicted_icu = moving_average_compare(m1._model_data.time_series_ICU)\n",
    "print(compute_sdd(ground_truth_icu, predicted_icu))"
   ]
  },
  {
   "cell_type": "code",
   "execution_count": null,
   "metadata": {
    "collapsed": false,
    "pycharm": {
     "is_executing": true
    }
   },
   "outputs": [],
   "source": [
    "plt.figure(figsize=(15,4))\n",
    "plt.subplot()\n",
    "plt.subplot(1, 2, 1), plt.plot(ground_truth_icu)\n",
    "plt.subplot(1, 2, 2), plt.plot(predicted_icu)\n",
    "plt.show()"
   ]
  },
  {
   "cell_type": "code",
   "execution_count": null,
   "metadata": {
    "collapsed": false,
    "pycharm": {
     "is_executing": true
    }
   },
   "outputs": [],
   "source": [
    "print(np.sum(m2._model_data.time_series_deaths))"
   ]
  },
  {
   "cell_type": "code",
   "execution_count": null,
   "metadata": {
    "collapsed": false,
    "pycharm": {
     "is_executing": true
    }
   },
   "outputs": [],
   "source": [
    "immunity = moving_average_compare(m1._model_data.time_series_immunity)\n",
    "vaccine = moving_average_compare(m1._model_data.time_series_vaccinated)\n",
    "plt.figure(figsize=(15,4))\n",
    "plt.subplot()\n",
    "plt.subplot(1, 2, 1), plt.plot(immunity)\n",
    "plt.subplot(1, 2, 2), plt.plot(vaccine)"
   ]
  },
  {
   "cell_type": "code",
   "execution_count": null,
   "metadata": {
    "collapsed": false,
    "pycharm": {
     "is_executing": true
    }
   },
   "outputs": [],
   "source": [
    "\n",
    "plt.plot(np.sum(m1._model_data.time_series_vaccinated[0], axis=0).T, label=i)\n",
    "plt.plot(np.sum(m1._model_data.time_series_vaccinated[1], axis=0).T, label=i)\n",
    "plt.plot(np.sum(m1._model_data.time_series_vaccinated[2], axis=0).T, label=i)\n",
    "plt.legend()\n",
    "plt.show()"
   ]
  },
  {
   "cell_type": "code",
   "execution_count": null,
   "metadata": {
    "collapsed": false,
    "pycharm": {
     "is_executing": true
    }
   },
   "outputs": [],
   "source": [
    "for i in range(16):\n",
    "    slice = m1._model_data.time_series_immunity[0].T[i].T\n",
    "    plt.plot(slice, label=i)\n",
    "plt.legend()\n",
    "plt.show()"
   ]
  },
  {
   "cell_type": "code",
   "execution_count": null,
   "metadata": {
    "collapsed": false,
    "pycharm": {
     "is_executing": true
    }
   },
   "outputs": [],
   "source": [
    "\n",
    "slice = m1._model_data.time_series_vaccinated[0].T[15].T\n",
    "plt.plot(slice, color='black')\n",
    "slice = m1._model_data.time_series_vaccinated[0].T[14].T\n",
    "slice = m1._model_data.time_series_vaccinated[0].T[13].T\n",
    "slice = m1._model_data.time_series_vaccinated[0].T[12].T\n",
    "slice = m1._model_data.time_series_vaccinated[0].T[11].T\n",
    "plt.plot(slice)\n",
    "plt.show()"
   ]
  },
  {
   "cell_type": "code",
   "execution_count": null,
   "metadata": {
    "collapsed": false,
    "pycharm": {
     "is_executing": true
    }
   },
   "outputs": [],
   "source": [
    "for i in range(16):\n",
    "    slice = m1._model_data.time_series_active_cases[0].T[5].T\n",
    "    plt.plot(slice, label=i)\n",
    "plt.legend()\n",
    "plt.show()"
   ]
  },
  {
   "cell_type": "code",
   "execution_count": null,
   "outputs": [],
   "source": [
    "# m1.save_to_file()"
   ],
   "metadata": {
    "collapsed": false,
    "pycharm": {
     "is_executing": true
    }
   }
  }
 ],
 "metadata": {
  "kernelspec": {
   "display_name": "Python 3",
   "language": "python",
   "name": "python3"
  },
  "language_info": {
   "codemirror_mode": {
    "name": "ipython",
    "version": 3
   },
   "file_extension": ".py",
   "mimetype": "text/x-python",
   "name": "python",
   "nbconvert_exporter": "python",
   "pygments_lexer": "ipython3",
   "version": "3.9.13"
  },
  "vscode": {
   "interpreter": {
    "hash": "a976e1f84a76d33309e74b478c7d5c102a8f079e4704b038c44d6074ab21dc96"
   }
  }
 },
 "nbformat": 4,
 "nbformat_minor": 0
}
