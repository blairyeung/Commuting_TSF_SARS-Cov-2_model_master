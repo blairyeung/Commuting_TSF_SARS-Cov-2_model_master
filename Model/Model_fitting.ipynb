{
 "cells": [
  {
   "cell_type": "code",
   "execution_count": null,
   "metadata": {
    "collapsed": true,
    "pycharm": {
     "is_executing": true
    }
   },
   "outputs": [],
   "source": [
    "from Model import Model\n",
    "import Parameters\n",
    "import numpy as np\n",
    "import matplotlib.pyplot as plt\n",
    "import pathlib\n",
    "import pandas as pd\n",
    "import Util"
   ]
  },
  {
   "cell_type": "code",
   "execution_count": null,
   "outputs": [],
   "source": [
    "def moving_average_compare(data):\n",
    "    return Util.moving_average(data[0,0:,:])"
   ],
   "metadata": {
    "collapsed": false,
    "pycharm": {
     "is_executing": true
    }
   }
  },
  {
   "cell_type": "code",
   "execution_count": null,
   "outputs": [],
   "source": [
    "def moving_average_compare_vaccine(data, index):\n",
    "    return Util.moving_average(data[index,0:,:])"
   ],
   "metadata": {
    "collapsed": false,
    "pycharm": {
     "is_executing": true
    }
   }
  },
  {
   "cell_type": "code",
   "execution_count": null,
   "outputs": [],
   "source": [
    "def compute_sdd(act, predict):\n",
    "    difference = act - predict\n",
    "    return np.sum(np.square(difference))"
   ],
   "metadata": {
    "collapsed": false,
    "pycharm": {
     "is_executing": true
    }
   }
  },
  {
   "cell_type": "code",
   "execution_count": null,
   "outputs": [],
   "source": [
    "infectiousness = 0.04\n",
    "m1 = Model(forecast_days=0, infectiousness=infectiousness)\n",
    "m2 = Model(forecast_days=0, infectiousness=infectiousness, prior_immunity=0)\n",
    "m1.date = 772"
   ],
   "metadata": {
    "collapsed": false,
    "pycharm": {
     "is_executing": true
    }
   }
  },
  {
   "cell_type": "code",
   "execution_count": null,
   "outputs": [],
   "source": [
    "ground_truth_data = m2._model_data\n",
    "immunity = moving_average_compare(ground_truth_data.time_series_immunity)\n",
    "vaccinated1 = moving_average_compare_vaccine(ground_truth_data.time_series_vaccinated, 0)\n",
    "vaccinated2 = moving_average_compare_vaccine(ground_truth_data.time_series_vaccinated, 1)\n",
    "vaccinated3 = moving_average_compare_vaccine(ground_truth_data.time_series_vaccinated, 2)\n",
    "plt.figure(figsize=(15,4))\n",
    "plt.subplot()\n",
    "plt.subplot(1,3,1), plt.plot(range(0, vaccinated2.shape[0]), np.mean(vaccinated1, axis=1)), plt.title('vaccine 1')\n",
    "plt.subplot(1,3,2), plt.plot(range(0, vaccinated2.shape[0]), np.mean(vaccinated2, axis=1)), plt.title('vaccine 2')\n",
    "plt.subplot(1,3,3), plt.plot(range(0, vaccinated2.shape[0]), np.mean(vaccinated3, axis=1)), plt.title('vaccine 3')\n",
    "print((ground_truth_data.time_series_vaccinated).shape)"
   ],
   "metadata": {
    "collapsed": false,
    "pycharm": {
     "is_executing": true
    }
   }
  },
  {
   "cell_type": "code",
   "execution_count": null,
   "outputs": [],
   "source": [
    "for i in range(1072-m1.date-1):\n",
    "    m1.run_one_cycle(display_status=False)\n",
    "    if i % 50 == 10:\n",
    "        plt.figure(figsize=(15,4))\n",
    "        plt.subplot()\n",
    "        plt.subplot(1, 3, 1), plt.plot(np.sum((m1._model_data.time_series_clinical_cases[0])[772:], axis=1))\n",
    "        plt.title('Actual hospitalized')\n",
    "        plt.subplot(1, 3, 2), plt.plot(np.sum((m2._model_data.time_series_clinical_cases[0])[772:], axis=1))\n",
    "        plt.title('Predicted hospitalized')\n",
    "        plt.subplot(1, 3, 3), plt.plot((m1._model_data.time_series_immunity[0])[772:])\n",
    "        plt.title('Predicted immunity')\n",
    "        plt.show()\n",
    "\n",
    "        plt.figure(figsize=(15,4))\n",
    "        plt.subplot()\n",
    "        plt.subplot(1, 3, 1), plt.plot(np.sum((m1._model_data.time_series_hospitalized[0])[772:], axis=1))\n",
    "        plt.title('Actual hospitalized')\n",
    "        plt.subplot(1, 3, 2), plt.plot(np.sum((m2._model_data.time_series_hospitalized[0])[772:], axis=1))\n",
    "        plt.title('Predicted hospitalized')\n",
    "        plt.subplot(1, 3 ,3), plt.plot(range(0, vaccinated3.shape[0]),\n",
    "                                       np.mean(moving_average_compare_vaccine(m1._model_data.time_series_vaccinated, 2), axis=1)), plt.title('vaccine 3')\n",
    "        plt.title('Actual vaccinated')\n",
    "        plt.show()\n",
    "    # m2.print_data(m1.date)"
   ],
   "metadata": {
    "collapsed": false,
    "pycharm": {
     "is_executing": true
    }
   }
  },
  {
   "cell_type": "code",
   "execution_count": null,
   "outputs": [],
   "source": [
    "predicated_data = m1._model_data\n",
    "ground_truth_clinical = moving_average_compare(m2._model_data.time_series_clinical_cases)\n",
    "predicted_clinical = moving_average_compare(predicated_data.time_series_clinical_cases)\n",
    "print(compute_sdd(ground_truth_clinical, predicted_clinical))"
   ],
   "metadata": {
    "collapsed": false,
    "pycharm": {
     "is_executing": true
    }
   }
  },
  {
   "cell_type": "code",
   "execution_count": null,
   "outputs": [],
   "source": [
    "plt.figure(figsize=(15,4))\n",
    "plt.subplot()\n",
    "plt.subplot(1, 2, 1), plt.plot(ground_truth_clinical)\n",
    "plt.subplot(1, 2, 2), plt.plot(predicted_clinical)\n",
    "plt.show()"
   ],
   "metadata": {
    "collapsed": false,
    "pycharm": {
     "is_executing": true
    }
   }
  },
  {
   "cell_type": "code",
   "execution_count": null,
   "outputs": [],
   "source": [
    "ground_truth_deaths = moving_average_compare(m2._model_data.time_series_deaths)\n",
    "predicted_deaths = moving_average_compare(m1._model_data.time_series_deaths)\n",
    "print(compute_sdd(ground_truth_deaths, predicted_deaths))"
   ],
   "metadata": {
    "collapsed": false,
    "pycharm": {
     "is_executing": true
    }
   }
  },
  {
   "cell_type": "code",
   "execution_count": null,
   "outputs": [],
   "source": [
    "plt.figure(figsize=(15,4))\n",
    "plt.subplot()\n",
    "plt.subplot(1, 2, 1), plt.plot(ground_truth_deaths)\n",
    "plt.subplot(1, 2, 2), plt.plot(predicted_deaths)\n",
    "plt.show()"
   ],
   "metadata": {
    "collapsed": false,
    "pycharm": {
     "is_executing": true
    }
   }
  },
  {
   "cell_type": "code",
   "execution_count": null,
   "outputs": [],
   "source": [
    "ground_truth_hosp = moving_average_compare(m2._model_data.time_series_hospitalized)\n",
    "predicted_hosp = moving_average_compare(m1._model_data.time_series_hospitalized)\n",
    "print(compute_sdd(ground_truth_hosp, predicted_hosp))"
   ],
   "metadata": {
    "collapsed": false,
    "pycharm": {
     "is_executing": true
    }
   }
  },
  {
   "cell_type": "code",
   "execution_count": null,
   "outputs": [],
   "source": [
    "plt.figure(figsize=(15,4))\n",
    "plt.subplot()\n",
    "plt.subplot(1, 2, 1), plt.plot(ground_truth_hosp)\n",
    "plt.subplot(1, 2, 2), plt.plot(predicted_hosp)\n",
    "plt.show()"
   ],
   "metadata": {
    "collapsed": false,
    "pycharm": {
     "is_executing": true
    }
   }
  },
  {
   "cell_type": "code",
   "execution_count": null,
   "outputs": [],
   "source": [
    "ground_truth_icu = moving_average_compare(m2._model_data.time_series_ICU)\n",
    "predicted_icu = moving_average_compare(m1._model_data.time_series_ICU)\n",
    "print(compute_sdd(ground_truth_icu, predicted_icu))"
   ],
   "metadata": {
    "collapsed": false,
    "pycharm": {
     "is_executing": true
    }
   }
  },
  {
   "cell_type": "code",
   "execution_count": null,
   "outputs": [],
   "source": [
    "plt.figure(figsize=(15,4))\n",
    "plt.subplot()\n",
    "plt.subplot(1, 2, 1), plt.plot(ground_truth_icu)\n",
    "plt.subplot(1, 2, 2), plt.plot(predicted_icu)\n",
    "plt.show()"
   ],
   "metadata": {
    "collapsed": false,
    "pycharm": {
     "is_executing": true
    }
   }
  },
  {
   "cell_type": "code",
   "execution_count": null,
   "outputs": [],
   "source": [
    "print(np.sum(m2._model_data.time_series_deaths))"
   ],
   "metadata": {
    "collapsed": false,
    "pycharm": {
     "is_executing": true
    }
   }
  },
  {
   "cell_type": "code",
   "execution_count": null,
   "outputs": [],
   "source": [
    "immunity = moving_average_compare(m1._model_data.time_series_immunity)\n",
    "vaccine = moving_average_compare(m1._model_data.time_series_vaccinated)\n",
    "plt.figure(figsize=(15,4))\n",
    "plt.subplot()\n",
    "plt.subplot(1, 2, 1), plt.plot(immunity)\n",
    "plt.subplot(1, 2, 2), plt.plot(vaccine)"
   ],
   "metadata": {
    "collapsed": false,
    "pycharm": {
     "is_executing": true
    }
   }
  },
  {
   "cell_type": "code",
   "execution_count": null,
   "outputs": [],
   "source": [
    "m1.save_to_file()"
   ],
   "metadata": {
    "collapsed": false,
    "pycharm": {
     "is_executing": true
    }
   }
  }
 ],
 "metadata": {
  "kernelspec": {
   "display_name": "Python 3",
   "language": "python",
   "name": "python3"
  },
  "language_info": {
   "codemirror_mode": {
    "name": "ipython",
    "version": 2
   },
   "file_extension": ".py",
   "mimetype": "text/x-python",
   "name": "python",
   "nbconvert_exporter": "python",
   "pygments_lexer": "ipython2",
   "version": "2.7.6"
  }
 },
 "nbformat": 4,
 "nbformat_minor": 0
}
