{
 "cells": [
  {
   "cell_type": "code",
   "execution_count": 1,
   "metadata": {
    "collapsed": true
   },
   "outputs": [],
   "source": [
    "import Parameters\n",
    "from Dependency import Dependency\n",
    "import numpy as np\n",
    "import Gaussian\n",
    "import matplotlib.pyplot as plt\n",
    "import pandas as pd\n",
    "import os"
   ]
  },
  {
   "cell_type": "code",
   "execution_count": 2,
   "metadata": {
    "collapsed": false
   },
   "outputs": [
    {
     "name": "stdout",
     "output_type": "stream",
     "text": [
      "             Age group   Persons\n",
      "0             All ages  15109416\n",
      "1         0 to 4 years    714654\n",
      "2         5 to 9 years    769062\n",
      "3       10 to 14 years    803899\n",
      "4       15 to 19 years    849806\n",
      "5       20 to 24 years   1057366\n",
      "6       25 to 29 years   1125877\n",
      "7       30 to 34 years   1103728\n",
      "8       35 to 39 years   1042232\n",
      "9       40 to 44 years    953628\n",
      "10      45 to 49 years    920118\n",
      "11      50 to 54 years    952509\n",
      "12      55 to 59 years   1037514\n",
      "13      60 to 64 years   1004860\n",
      "14      65 to 69 years    855432\n",
      "15      70 to 74 years    702717\n",
      "16      75 to 79 years    523712\n",
      "17      80 to 84 years    342044\n",
      "18      85 to 89 years    210933\n",
      "19      90 to 94 years    103321\n",
      "20      95 to 99 years     31121\n",
      "21  100 years and over      4883\n"
     ]
    }
   ],
   "source": [
    "path = path = os.getcwd()[:-5] + 'Model Dependencies/' + '1710000501-eng.csv'\n",
    "raw_age_df = pd.read_csv(path)\n",
    "print(raw_age_df)"
   ]
  },
  {
   "cell_type": "code",
   "execution_count": 7,
   "metadata": {
    "collapsed": false
   },
   "outputs": [
    {
     "name": "stdout",
     "output_type": "stream",
     "text": [
      "[15109416   714654   769062   803899   849806  1057366  1125877  1103728\n",
      "  1042232   953628   920118   952509  1037514  1004860   855432   702717\n",
      "   523712   342044   210933   103321    31121     4883]\n",
      "[ 714654.  769062.  803899.  849806. 1057366. 1125877. 1103728. 1042232.\n",
      "  953628.  920118.  952509. 1037514. 1004860.  855432.  702717. 1216014.]\n",
      "[0.04729859 0.05089952 0.05320517 0.05624347 0.0699806  0.07451492\n",
      " 0.07304902 0.06897897 0.06311482 0.06089699 0.06304076 0.06866672\n",
      " 0.06650555 0.05661582 0.04650855 0.08048054]\n"
     ]
    }
   ],
   "source": [
    "raw_age_dist = raw_age_df['Persons'].to_numpy()\n",
    "print(raw_age_dist)\n",
    "\n",
    "age_dist = np.zeros(shape=(16, ))\n",
    "age_dist[0:15] = raw_age_dist[1:16]\n",
    "age_dist[15] = np.sum(raw_age_dist[16:])\n",
    "print(age_dist)\n",
    "print(age_dist / np.sum(age_dist))"
   ]
  },
  {
   "cell_type": "markdown",
   "metadata": {
    "collapsed": false
   },
   "source": [
    "## Inference vaccination age distribution"
   ]
  },
  {
   "cell_type": "code",
   "execution_count": 4,
   "metadata": {
    "collapsed": false
   },
   "outputs": [
    {
     "name": "stdout",
     "output_type": "stream",
     "text": [
      "[0.0607 0.2179 0.4135 0.4968 0.5605 0.6485 0.8138 0.9141 0.9182]\n",
      "[0.00060537 0.00458526 0.01328221 0.02727299 0.04668258 0.0514049\n",
      " 0.05772092 0.05664295 0.05666874 0.05662532 0.06529888 0.07479382\n",
      " 0.08567756 0.07610751 0.06813767 0.25849333]\n"
     ]
    }
   ],
   "source": [
    "raw = np.array([0.0607,0.2179,0.4135,0.4968,0.5605,0.6485,0.8138,0.9141,0.9182])\n",
    "print(raw)\n",
    "dose_dist = Gaussian.age_dog_algo(raw)\n",
    "dose_dist = dose_dist / np.sum(dose_dist)\n",
    "print(dose_dist)"
   ]
  },
  {
   "cell_type": "code",
   "execution_count": 5,
   "metadata": {
    "collapsed": false
   },
   "outputs": [
    {
     "data": {
      "text/plain": [
       "<BarContainer object of 16 artists>"
      ]
     },
     "execution_count": 5,
     "metadata": {},
     "output_type": "execute_result"
    },
    {
     "data": {
      "image/png": "[encoded data removed]",
      "text/plain": [
       "<Figure size 640x480 with 1 Axes>"
      ]
     },
     "metadata": {},
     "output_type": "display_data"
    }
   ],
   "source": [
    "plt.bar(range(0, 16), dose_dist)"
   ]
  }
 ],
 "metadata": {
  "kernelspec": {
   "display_name": "Python 3",
   "language": "python",
   "name": "python3"
  },
  "language_info": {
   "codemirror_mode": {
    "name": "ipython",
    "version": 2
   },
   "file_extension": ".py",
   "mimetype": "text/x-python",
   "name": "python",
   "nbconvert_exporter": "python",
   "pygments_lexer": "ipython2",
   "version": "3.9.13 (tags/v3.9.13:6de2ca5, May 17 2022, 16:36:42) [MSC v.1929 64 bit (AMD64)]"
  },
  "vscode": {
   "interpreter": {
    "hash": "a976e1f84a76d33309e74b478c7d5c102a8f079e4704b038c44d6074ab21dc96"
   }
  }
 },
 "nbformat": 4,
 "nbformat_minor": 0
}
