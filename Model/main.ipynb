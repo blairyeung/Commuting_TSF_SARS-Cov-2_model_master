{
 "cells": [
  {
   "cell_type": "code",
   "execution_count": 3,
   "metadata": {
    "collapsed": true
   },
   "outputs": [],
   "source": [
    "from Model import Model\n",
    "import math\n",
    "import Parameters\n",
    "import os\n",
    "import numpy as np\n",
    "import pandas as pd\n",
    "from matplotlib import pyplot as plt\n",
    "import Dependency as Dependency\n",
    "import Util\n",
    "from ModelData import ModelData\n",
    "import Parameters"
   ]
  },
  {
   "cell_type": "markdown",
   "source": [
    "# Setting up hyperparameters"
   ],
   "metadata": {
    "collapsed": false
   }
  },
  {
   "cell_type": "code",
   "execution_count": 4,
   "outputs": [
    {
     "name": "stdout",
     "output_type": "stream",
     "text": [
      "895\n",
      "896\n",
      "897\n",
      "898\n",
      "899\n",
      "900\n",
      "901\n",
      "902\n",
      "903\n",
      "904\n",
      "905\n",
      "906\n",
      "907\n",
      "908\n",
      "909\n",
      "910\n",
      "911\n",
      "912\n",
      "913\n",
      "914\n",
      "915\n",
      "916\n",
      "917\n",
      "918\n",
      "919\n",
      "920\n",
      "921\n",
      "922\n",
      "923\n",
      "924\n"
     ]
    }
   ],
   "source": [
    "forecast_days = 120\n",
    "infectiousness = 0.003\n",
    "m = Model(forecast_days=forecast_days, infectiousness=infectiousness)"
   ],
   "metadata": {
    "collapsed": false
   }
  },
  {
   "cell_type": "code",
   "execution_count": 5,
   "outputs": [
    {
     "name": "stdout",
     "output_type": "stream",
     "text": [
      "925\n",
      "Today_new_cases 3618.5460313353115\n",
      "Total new cases 3605775.853529089\n",
      "926\n",
      "Today_new_cases 3501.980027092426\n",
      "Total new cases 3609277.8335561827\n",
      "927\n",
      "Today_new_cases 3501.590652262124\n",
      "Total new cases 3612779.424208439\n",
      "928\n",
      "Today_new_cases 3366.6134438394593\n",
      "Total new cases 3616146.0376522862\n",
      "929\n",
      "Today_new_cases 3230.7591677092682\n",
      "Total new cases 3619376.79681999\n",
      "930\n",
      "Today_new_cases 3135.6097207469943\n",
      "Total new cases 3622512.406540732\n",
      "931\n",
      "Today_new_cases 3060.818048139716\n",
      "Total new cases 3625573.224588876\n",
      "932\n",
      "Today_new_cases 3045.7070536304013\n",
      "Total new cases 3628618.9316425095\n",
      "933\n",
      "Today_new_cases 3031.4422999397084\n",
      "Total new cases 3631650.3739424506\n",
      "934\n",
      "Today_new_cases 3017.1374973292577\n",
      "Total new cases 3634667.5114397793\n",
      "935\n",
      "Today_new_cases 3002.9729144501407\n",
      "Total new cases 3637670.4843542287\n",
      "936\n",
      "Today_new_cases 2989.605034473026\n",
      "Total new cases 3640660.089388706\n",
      "937\n",
      "Today_new_cases 2978.8965759579605\n",
      "Total new cases 3643638.985964663\n",
      "938\n",
      "Today_new_cases 2965.704189652289\n",
      "Total new cases 3646604.6901543145\n",
      "939\n",
      "Today_new_cases 2967.729112467778\n",
      "Total new cases 3649572.419266777\n",
      "940\n",
      "Today_new_cases 2971.3011933374078\n",
      "Total new cases 3652543.720460117\n",
      "941\n",
      "Today_new_cases 2975.793037116543\n",
      "Total new cases 3655519.5134972357\n",
      "942\n",
      "Today_new_cases 2982.6898597896193\n",
      "Total new cases 3658502.2033570227\n",
      "943\n",
      "Today_new_cases 2990.5559446736956\n",
      "Total new cases 3661492.7593016988\n",
      "944\n",
      "Today_new_cases 3000.2767078786133\n",
      "Total new cases 3664493.036009572\n",
      "945\n",
      "Today_new_cases 3011.739016742333\n",
      "Total new cases 3667504.7750263195\n",
      "946\n",
      "Today_new_cases 3024.9987747088494\n",
      "Total new cases 3670529.773801022\n",
      "947\n",
      "Today_new_cases 3039.902711797676\n",
      "Total new cases 3673569.6765128234\n",
      "948\n",
      "Today_new_cases 3056.221716482966\n",
      "Total new cases 3676625.89822931\n",
      "949\n",
      "Today_new_cases 3073.8809270696443\n",
      "Total new cases 3679699.7791563775\n",
      "950\n",
      "Today_new_cases 3092.8049954979024\n",
      "Total new cases 3682792.584151881\n"
     ]
    },
    {
     "ename": "KeyboardInterrupt",
     "evalue": "",
     "output_type": "error",
     "traceback": [
      "\u001B[1;31m---------------------------------------------------------------------------\u001B[0m",
      "\u001B[1;31mKeyboardInterrupt\u001B[0m                         Traceback (most recent call last)",
      "Cell \u001B[1;32mIn [5], line 2\u001B[0m\n\u001B[0;32m      1\u001B[0m \u001B[38;5;28;01mfor\u001B[39;00m i \u001B[38;5;129;01min\u001B[39;00m \u001B[38;5;28mrange\u001B[39m(forecast_days):\n\u001B[1;32m----> 2\u001B[0m     \u001B[43mm\u001B[49m\u001B[38;5;241;43m.\u001B[39;49m\u001B[43mrun_one_cycle\u001B[49m\u001B[43m(\u001B[49m\u001B[43mdisplay_status\u001B[49m\u001B[38;5;241;43m=\u001B[39;49m\u001B[38;5;28;43;01mTrue\u001B[39;49;00m\u001B[43m)\u001B[49m\n\u001B[0;32m      3\u001B[0m     \u001B[38;5;28;01mpass\u001B[39;00m\n",
      "File \u001B[1;32mD:\\Github\\Commuting_TSF_SARS-Cov-2_model_master\\Model\\Model.py:36\u001B[0m, in \u001B[0;36mModel.run_one_cycle\u001B[1;34m(self, display_status)\u001B[0m\n\u001B[0;32m     32\u001B[0m \u001B[38;5;124;03m\"\"\"\u001B[39;00m\n\u001B[0;32m     33\u001B[0m \u001B[38;5;124;03mFirstly, we convert the number of newly infected cases to active cases\u001B[39;00m\n\u001B[0;32m     34\u001B[0m \u001B[38;5;124;03m\"\"\"\u001B[39;00m\n\u001B[0;32m     35\u001B[0m \u001B[38;5;28mself\u001B[39m\u001B[38;5;241m.\u001B[39mdate \u001B[38;5;241m+\u001B[39m\u001B[38;5;241m=\u001B[39m \u001B[38;5;241m1\u001B[39m\n\u001B[1;32m---> 36\u001B[0m \u001B[38;5;28;43mself\u001B[39;49m\u001B[38;5;241;43m.\u001B[39;49m\u001B[43m_compute_immunity\u001B[49m\u001B[43m(\u001B[49m\u001B[38;5;28;43mself\u001B[39;49m\u001B[38;5;241;43m.\u001B[39;49m\u001B[43mdate\u001B[49m\u001B[43m)\u001B[49m\n\u001B[0;32m     37\u001B[0m \u001B[38;5;28mself\u001B[39m\u001B[38;5;241m.\u001B[39m_model_transition(time_step\u001B[38;5;241m=\u001B[39m\u001B[38;5;124m'\u001B[39m\u001B[38;5;124mday\u001B[39m\u001B[38;5;124m'\u001B[39m)\n\u001B[0;32m     39\u001B[0m \u001B[38;5;28mself\u001B[39m\u001B[38;5;241m.\u001B[39m_compute_immunity(\u001B[38;5;28mself\u001B[39m\u001B[38;5;241m.\u001B[39mdate)\n",
      "File \u001B[1;32mD:\\Github\\Commuting_TSF_SARS-Cov-2_model_master\\Model\\Model.py:61\u001B[0m, in \u001B[0;36mModel._compute_immunity\u001B[1;34m(self, date)\u001B[0m\n\u001B[0;32m     59\u001B[0m dose1 \u001B[38;5;241m=\u001B[39m (np\u001B[38;5;241m.\u001B[39mones(shape\u001B[38;5;241m=\u001B[39m(Parameters\u001B[38;5;241m.\u001B[39mNO_COUNTY, dose1\u001B[38;5;241m.\u001B[39mshape[\u001B[38;5;241m0\u001B[39m], dose1\u001B[38;5;241m.\u001B[39mshape[\u001B[38;5;241m1\u001B[39m])) \u001B[38;5;241m*\u001B[39m dose1)\u001B[38;5;241m.\u001B[39mtranspose(\u001B[38;5;241m1\u001B[39m, \u001B[38;5;241m0\u001B[39m, \u001B[38;5;241m2\u001B[39m)\n\u001B[0;32m     60\u001B[0m dose2 \u001B[38;5;241m=\u001B[39m (np\u001B[38;5;241m.\u001B[39mones(shape\u001B[38;5;241m=\u001B[39m(Parameters\u001B[38;5;241m.\u001B[39mNO_COUNTY, dose2\u001B[38;5;241m.\u001B[39mshape[\u001B[38;5;241m0\u001B[39m], dose2\u001B[38;5;241m.\u001B[39mshape[\u001B[38;5;241m1\u001B[39m])) \u001B[38;5;241m*\u001B[39m dose2)\u001B[38;5;241m.\u001B[39mtranspose(\u001B[38;5;241m1\u001B[39m, \u001B[38;5;241m0\u001B[39m, \u001B[38;5;241m2\u001B[39m)\n\u001B[1;32m---> 61\u001B[0m dose3 \u001B[38;5;241m=\u001B[39m (\u001B[43mnp\u001B[49m\u001B[38;5;241;43m.\u001B[39;49m\u001B[43mones\u001B[49m\u001B[43m(\u001B[49m\u001B[43mshape\u001B[49m\u001B[38;5;241;43m=\u001B[39;49m\u001B[43m(\u001B[49m\u001B[43mParameters\u001B[49m\u001B[38;5;241;43m.\u001B[39;49m\u001B[43mNO_COUNTY\u001B[49m\u001B[43m,\u001B[49m\u001B[43m \u001B[49m\u001B[43mdose3\u001B[49m\u001B[38;5;241;43m.\u001B[39;49m\u001B[43mshape\u001B[49m\u001B[43m[\u001B[49m\u001B[38;5;241;43m0\u001B[39;49m\u001B[43m]\u001B[49m\u001B[43m,\u001B[49m\u001B[43m \u001B[49m\u001B[43mdose3\u001B[49m\u001B[38;5;241;43m.\u001B[39;49m\u001B[43mshape\u001B[49m\u001B[43m[\u001B[49m\u001B[38;5;241;43m1\u001B[39;49m\u001B[43m]\u001B[49m\u001B[43m)\u001B[49m\u001B[43m)\u001B[49m \u001B[38;5;241m*\u001B[39m dose3)\u001B[38;5;241m.\u001B[39mtranspose(\u001B[38;5;241m1\u001B[39m, \u001B[38;5;241m0\u001B[39m, \u001B[38;5;241m2\u001B[39m)\n\u001B[0;32m     63\u001B[0m county_population \u001B[38;5;241m=\u001B[39m np\u001B[38;5;241m.\u001B[39marray(\u001B[38;5;28mself\u001B[39m\u001B[38;5;241m.\u001B[39mdependency\u001B[38;5;241m.\u001B[39mindex_to_population)\n\u001B[0;32m     64\u001B[0m county_population \u001B[38;5;241m=\u001B[39m county_population\u001B[38;5;241m.\u001B[39mreshape(county_population\u001B[38;5;241m.\u001B[39mshape[\u001B[38;5;241m0\u001B[39m], \u001B[38;5;241m1\u001B[39m)\n",
      "File \u001B[1;32m~\\AppData\\Local\\Packages\\PythonSoftwareFoundation.Python.3.9_qbz5n2kfra8p0\\LocalCache\\local-packages\\Python39\\site-packages\\numpy\\core\\numeric.py:205\u001B[0m, in \u001B[0;36mones\u001B[1;34m(shape, dtype, order, like)\u001B[0m\n\u001B[0;32m    202\u001B[0m     \u001B[38;5;28;01mreturn\u001B[39;00m _ones_with_like(shape, dtype\u001B[38;5;241m=\u001B[39mdtype, order\u001B[38;5;241m=\u001B[39morder, like\u001B[38;5;241m=\u001B[39mlike)\n\u001B[0;32m    204\u001B[0m a \u001B[38;5;241m=\u001B[39m empty(shape, dtype, order)\n\u001B[1;32m--> 205\u001B[0m \u001B[43mmultiarray\u001B[49m\u001B[38;5;241;43m.\u001B[39;49m\u001B[43mcopyto\u001B[49m\u001B[43m(\u001B[49m\u001B[43ma\u001B[49m\u001B[43m,\u001B[49m\u001B[43m \u001B[49m\u001B[38;5;241;43m1\u001B[39;49m\u001B[43m,\u001B[49m\u001B[43m \u001B[49m\u001B[43mcasting\u001B[49m\u001B[38;5;241;43m=\u001B[39;49m\u001B[38;5;124;43m'\u001B[39;49m\u001B[38;5;124;43munsafe\u001B[39;49m\u001B[38;5;124;43m'\u001B[39;49m\u001B[43m)\u001B[49m\n\u001B[0;32m    206\u001B[0m \u001B[38;5;28;01mreturn\u001B[39;00m a\n",
      "File \u001B[1;32m<__array_function__ internals>:180\u001B[0m, in \u001B[0;36mcopyto\u001B[1;34m(*args, **kwargs)\u001B[0m\n",
      "\u001B[1;31mKeyboardInterrupt\u001B[0m: "
     ]
    }
   ],
   "source": [
    "for i in range(forecast_days):\n",
    "    m.run_one_cycle(display_status=True)\n",
    "    pass"
   ],
   "metadata": {
    "collapsed": false
   }
  }
 ],
 "metadata": {
  "kernelspec": {
   "display_name": "Python 3",
   "language": "python",
   "name": "python3"
  },
  "language_info": {
   "codemirror_mode": {
    "name": "ipython",
    "version": 2
   },
   "file_extension": ".py",
   "mimetype": "text/x-python",
   "name": "python",
   "nbconvert_exporter": "python",
   "pygments_lexer": "ipython2",
   "version": "2.7.6"
  }
 },
 "nbformat": 4,
 "nbformat_minor": 0
}
