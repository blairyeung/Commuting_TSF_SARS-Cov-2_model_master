{
 "cells": [
  {
   "cell_type": "code",
   "execution_count": 1,
   "metadata": {
    "collapsed": true
   },
   "outputs": [],
   "source": [
    "import Parameters\n",
    "from Dependency import Dependency\n",
    "import numpy as np\n",
    "import Gaussian\n",
    "import matplotlib.pyplot as plt\n",
    "import pandas as pd\n",
    "import os"
   ]
  },
  {
   "cell_type": "code",
   "execution_count": 2,
   "metadata": {
    "collapsed": false
   },
   "outputs": [],
   "source": [
    "phu_id_pairing = {2226: 'Algoma Public Health', 2227: 'Brant County Health Unit',\n",
    "                      2230: 'Durham Region Health Department', 2233: 'Grey Bruce Health Unit',\n",
    "                      2234: 'Haldimand-Norfolk Health Unit',\n",
    "                      2235: 'Haliburton, Kawartha, Pine Ridge District Health Unit ',\n",
    "                      2236: 'Halton Region Public Health', 2237: 'City of Hamilton Public Health Services',\n",
    "                      2238: 'Hastings Prince Edward Public Health', 2240: 'Chatham-Kent Public Health',\n",
    "                      2241: 'Kingston, Frontenac and Lennox & Addington Public Health',\n",
    "                      2242: 'Lambton Public Health', 2243: 'Leeds, Grenville & Lanark District Health Unit',\n",
    "                      2244: 'Middlesex-London Health Unit', 2246: 'Niagara Region Public Health',\n",
    "                      2247: 'North Bay Parry Sound District Health Unit', 2249: 'Northwestern Health Unit',\n",
    "                      2251: 'Ottawa Public Health', 2253: 'Peel Public Health',2255: 'Peterborough Public Health ',\n",
    "                      2256: 'Porcupine Health Unit', 2257: 'Renfrew County and District Health Unit',\n",
    "                      2258: 'Eastern Ontario Health Unit', 2260: 'Simcoe Muskoka District Health Unit',\n",
    "                      2261: 'Public Health Sudbury & Districts', 2262: 'Thunder Bay District Health Unit',\n",
    "                      2263: 'Timiskaming Health Unit', 2265: 'Region of Waterloo Public Health and Emergency Services',\n",
    "                      2266: 'Wellington-Dufferin-Guelph Public Health', 2268: 'Windsor-Essex County Health Unit',\n",
    "                      2270: 'York Region Public Health', 3895: 'Toronto Public Health',\n",
    "                      4913: 'Southwestern Public Health', 5183: 'Huron Perth Health Unit', 9999: 'Unknown'}\n"
   ]
  },
  {
   "cell_type": "code",
   "execution_count": 3,
   "metadata": {
    "collapsed": false
   },
   "outputs": [],
   "source": [
    "path = path = os.getcwd()[:-5] + 'Model Dependencies/' + 'vaccines_by_age_phu.csv'\n",
    "raw_age_df = pd.read_csv(path)\n",
    "grouped = raw_age_df.groupby('PHU ID')"
   ]
  },
  {
   "cell_type": "code",
   "execution_count": 4,
   "metadata": {
    "collapsed": false
   },
   "outputs": [
    {
     "name": "stdout",
     "output_type": "stream",
     "text": [
      "Algoma Public Health\n",
      "Brant County Health Unit\n",
      "Durham Region Health Department\n",
      "Grey Bruce Health Unit\n",
      "Haldimand-Norfolk Health Unit\n",
      "Haliburton, Kawartha, Pine Ridge District Health Unit \n",
      "Halton Region Public Health\n",
      "City of Hamilton Public Health Services\n",
      "Hastings Prince Edward Public Health\n",
      "Chatham-Kent Public Health\n",
      "Kingston, Frontenac and Lennox & Addington Public Health\n",
      "Lambton Public Health\n",
      "Leeds, Grenville & Lanark District Health Unit\n",
      "Middlesex-London Health Unit\n",
      "Niagara Region Public Health\n",
      "North Bay Parry Sound District Health Unit\n",
      "Northwestern Health Unit\n",
      "Ottawa Public Health\n",
      "Peel Public Health\n",
      "Peterborough Public Health \n",
      "Porcupine Health Unit\n",
      "Renfrew County and District Health Unit\n",
      "Eastern Ontario Health Unit\n",
      "Simcoe Muskoka District Health Unit\n",
      "Public Health Sudbury & Districts\n",
      "Thunder Bay District Health Unit\n",
      "Timiskaming Health Unit\n",
      "Region of Waterloo Public Health and Emergency Services\n",
      "Wellington-Dufferin-Guelph Public Health\n",
      "Windsor-Essex County Health Unit\n",
      "York Region Public Health\n",
      "Toronto Public Health\n",
      "Southwestern Public Health\n",
      "Huron Perth Health Unit\n",
      "Unknown\n"
     ]
    }
   ],
   "source": [
    "for g in grouped.groups:\n",
    "    group = grouped.get_group(g)\n",
    "    # print(group)\n",
    "    print(phu_id_pairing[g])"
   ]
  },
  {
   "cell_type": "code",
   "execution_count": 4,
   "metadata": {},
   "outputs": [],
   "source": []
  },
  {
   "cell_type": "code",
   "execution_count": 4,
   "metadata": {
    "collapsed": false
   },
   "outputs": [],
   "source": []
  }
 ],
 "metadata": {
  "kernelspec": {
   "display_name": "Python 3",
   "language": "python",
   "name": "python3"
  },
  "language_info": {
   "codemirror_mode": {
    "name": "ipython",
    "version": 3
   },
   "file_extension": ".py",
   "mimetype": "text/x-python",
   "name": "python",
   "nbconvert_exporter": "python",
   "pygments_lexer": "ipython3",
   "version": "3.11.1 (tags/v3.11.1:a7a450f, Dec  6 2022, 19:58:39) [MSC v.1934 64 bit (AMD64)]"
  },
  "vscode": {
   "interpreter": {
    "hash": "64a547f655aa6c52a93e4c7478ba1aa4cf8da3e0dc99bf6562ebe081c706b916"
   }
  }
 },
 "nbformat": 4,
 "nbformat_minor": 0
}
