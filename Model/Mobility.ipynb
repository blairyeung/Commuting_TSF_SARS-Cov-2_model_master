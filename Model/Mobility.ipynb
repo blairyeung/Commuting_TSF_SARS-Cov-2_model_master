{
 "cells": [
  {
   "cell_type": "code",
   "execution_count": 1,
   "metadata": {
    "collapsed": true
   },
   "outputs": [],
   "source": [
    "import pandas as pd\n",
    "import numpy as np\n",
    "import datetime\n",
    "import numpy as np\n",
    "import os\n",
    "import csv\n",
    "import cv2\n",
    "import pandas as pd\n",
    "import Gaussian\n",
    "import Parameters\n",
    "import Util\n",
    "import matplotlib.pyplot as plt\n",
    "from Dependency import Dependency"
   ]
  },
  {
   "cell_type": "code",
   "execution_count": 2,
   "metadata": {
    "collapsed": false
   },
   "outputs": [
    {
     "ename": "KeyError",
     "evalue": "'Algoma Public Health'",
     "output_type": "error",
     "traceback": [
      "\u001B[1;31m---------------------------------------------------------------------------\u001B[0m",
      "\u001B[1;31mKeyError\u001B[0m                                  Traceback (most recent call last)",
      "Cell \u001B[1;32mIn[2], line 1\u001B[0m\n\u001B[1;32m----> 1\u001B[0m d \u001B[38;5;241m=\u001B[39m \u001B[43mDependency\u001B[49m\u001B[43m(\u001B[49m\u001B[43m)\u001B[49m\n\u001B[0;32m      2\u001B[0m path \u001B[38;5;241m=\u001B[39m os\u001B[38;5;241m.\u001B[39mgetcwd()[:\u001B[38;5;241m-\u001B[39m\u001B[38;5;241m5\u001B[39m] \u001B[38;5;241m+\u001B[39m \u001B[38;5;124m'\u001B[39m\u001B[38;5;124mModel Dependencies/\u001B[39m\u001B[38;5;124m'\u001B[39m\n\u001B[0;32m      3\u001B[0m read_path \u001B[38;5;241m=\u001B[39m path \u001B[38;5;241m+\u001B[39m \u001B[38;5;124m'\u001B[39m\u001B[38;5;124mRegion_Mobility_Report_CSVs/\u001B[39m\u001B[38;5;124m'\u001B[39m\n",
      "File \u001B[1;32mD:\\Github\\Commuting_TSF_SARS-Cov-2_model_master\\Model\\Dependency.py:97\u001B[0m, in \u001B[0;36mDependency.__init__\u001B[1;34m(self)\u001B[0m\n\u001B[0;32m     96\u001B[0m \u001B[38;5;28;01mdef\u001B[39;00m \u001B[38;5;21m__init__\u001B[39m(\u001B[38;5;28mself\u001B[39m):\n\u001B[1;32m---> 97\u001B[0m     \u001B[38;5;28;43mself\u001B[39;49m\u001B[38;5;241;43m.\u001B[39;49m\u001B[43mread_files\u001B[49m\u001B[43m(\u001B[49m\u001B[43m)\u001B[49m\n",
      "File \u001B[1;32mD:\\Github\\Commuting_TSF_SARS-Cov-2_model_master\\Model\\Dependency.py:115\u001B[0m, in \u001B[0;36mDependency.read_files\u001B[1;34m(self)\u001B[0m\n\u001B[0;32m    112\u001B[0m \u001B[38;5;28mself\u001B[39m\u001B[38;5;241m.\u001B[39mread_cases()\n\u001B[0;32m    113\u001B[0m \u001B[38;5;66;03m# self.read_vaccine()\u001B[39;00m\n\u001B[0;32m    114\u001B[0m \u001B[38;5;66;03m# self.read_vaccine_by_phu()\u001B[39;00m\n\u001B[1;32m--> 115\u001B[0m \u001B[38;5;28;43mself\u001B[39;49m\u001B[38;5;241;43m.\u001B[39;49m\u001B[43mread_vaccine_by_phu\u001B[49m\u001B[43m(\u001B[49m\u001B[43m)\u001B[49m\n\u001B[0;32m    116\u001B[0m \u001B[38;5;66;03m# self.reshape_vaccine()\u001B[39;00m\n\u001B[0;32m    117\u001B[0m \u001B[38;5;28mself\u001B[39m\u001B[38;5;241m.\u001B[39mreshape_vaccine_by_phu()\n",
      "File \u001B[1;32mD:\\Github\\Commuting_TSF_SARS-Cov-2_model_master\\Model\\Dependency.py:455\u001B[0m, in \u001B[0;36mDependency.read_vaccine_by_phu\u001B[1;34m(self)\u001B[0m\n\u001B[0;32m    452\u001B[0m \u001B[38;5;28;01mif\u001B[39;00m g \u001B[38;5;129;01mnot\u001B[39;00m \u001B[38;5;129;01min\u001B[39;00m \u001B[38;5;28mself\u001B[39m\u001B[38;5;241m.\u001B[39mphu_to_district:\n\u001B[0;32m    453\u001B[0m     \u001B[38;5;28;01mcontinue\u001B[39;00m\n\u001B[1;32m--> 455\u001B[0m population \u001B[38;5;241m=\u001B[39m \u001B[38;5;28;43mself\u001B[39;49m\u001B[38;5;241;43m.\u001B[39;49m\u001B[43mpopulation_by_phu\u001B[49m\u001B[43m[\u001B[49m\u001B[43mg\u001B[49m\u001B[43m]\u001B[49m\n\u001B[0;32m    457\u001B[0m data \u001B[38;5;241m=\u001B[39m np\u001B[38;5;241m.\u001B[39mzeros(shape\u001B[38;5;241m=\u001B[39m(\u001B[38;5;28mlen\u001B[39m(vaccine_dose_descrpition), \u001B[38;5;28mlen\u001B[39m(age_bands), \u001B[38;5;28mself\u001B[39m\u001B[38;5;241m.\u001B[39mtotal_days))\n\u001B[0;32m    458\u001B[0m extra_dose_data \u001B[38;5;241m=\u001B[39m np\u001B[38;5;241m.\u001B[39mzeros(shape\u001B[38;5;241m=\u001B[39m(\u001B[38;5;28mlen\u001B[39m(vaccine_dose_extra), \u001B[38;5;28mlen\u001B[39m(age_bands), \u001B[38;5;28mself\u001B[39m\u001B[38;5;241m.\u001B[39mtotal_days))\n",
      "\u001B[1;31mKeyError\u001B[0m: 'Algoma Public Health'"
     ]
    }
   ],
   "source": [
    "d = Dependency()\n",
    "path = os.getcwd()[:-5] + 'Model Dependencies/'\n",
    "read_path = path + 'Region_Mobility_Report_CSVs/'\n",
    "path_2020 = read_path + '2020_CA_Region_Mobility_Report.csv'\n",
    "path_2021 = read_path + '2021_CA_Region_Mobility_Report.csv'\n",
    "path_2022 = read_path + '2022_CA_Region_Mobility_Report.csv'\n",
    "df1 = pd.read_csv(path_2020)\n",
    "df2 = pd.read_csv(path_2021)\n",
    "df3 = pd.read_csv(path_2022)"
   ]
  },
  {
   "cell_type": "code",
   "execution_count": null,
   "metadata": {
    "collapsed": false
   },
   "outputs": [],
   "source": [
    "df = pd.concat([df1, df2, df3])"
   ]
  },
  {
   "cell_type": "code",
   "execution_count": null,
   "metadata": {
    "collapsed": false
   },
   "outputs": [],
   "source": [
    "print(df)"
   ]
  },
  {
   "cell_type": "code",
   "execution_count": null,
   "metadata": {
    "collapsed": false
   },
   "outputs": [],
   "source": [
    "groups = df.groupby('iso_3166_2_code')\n",
    "Ontario = groups.get_group('CA-ON')\n",
    "Ontario['date'] = pd.to_datetime(Ontario['date'])\n",
    "max_date = (Ontario['date'].max() - Parameters.OUTBREAK_FIRST_DAY).days\n",
    "min_date = (Ontario['date'].min() - Parameters.OUTBREAK_FIRST_DAY).days\n",
    "print(max_date, min_date)"
   ]
  },
  {
   "cell_type": "code",
   "execution_count": null,
   "metadata": {
    "collapsed": false
   },
   "outputs": [],
   "source": [
    "mobility = np.ones(shape=(6, d.total_days))\n",
    "blurred_mobility = np.ones(shape=(6, d.total_days))"
   ]
  },
  {
   "cell_type": "code",
   "execution_count": null,
   "metadata": {
    "collapsed": false
   },
   "outputs": [],
   "source": [
    "retail = Ontario['retail_and_recreation_percent_change_from_baseline'].to_numpy()\n",
    "grocery = Ontario['grocery_and_pharmacy_percent_change_from_baseline'].to_numpy()\n",
    "park = Ontario['parks_percent_change_from_baseline'].to_numpy()\n",
    "trainsit = Ontario['transit_stations_percent_change_from_baseline'].to_numpy()\n",
    "workplace = Ontario['workplaces_percent_change_from_baseline'].to_numpy()\n",
    "residential = Ontario['residential_percent_change_from_baseline'].to_numpy()\n",
    "mobility[0][min_date:max_date+1] = retail\n",
    "mobility[1][min_date:max_date+1] = grocery\n",
    "mobility[2][min_date:max_date+1] = park\n",
    "mobility[3][min_date:max_date+1] = trainsit\n",
    "mobility[4][min_date:max_date+1] = workplace\n",
    "mobility[5][min_date:max_date+1] = residential\n",
    "mobility = mobility.T"
   ]
  },
  {
   "cell_type": "code",
   "execution_count": null,
   "metadata": {
    "collapsed": false
   },
   "outputs": [],
   "source": [
    "retail_blurred = cv2.GaussianBlur(retail.reshape(retail.shape[0], 1), (15, 15), 0)\n",
    "grocery_blurred = cv2.GaussianBlur(grocery.reshape(grocery.shape[0], 1), (15, 15), 0)\n",
    "park_blurred = cv2.GaussianBlur(park.reshape(park.shape[0], 1), (15, 15), 0)\n",
    "trainsit_blurred = cv2.GaussianBlur(trainsit.reshape(trainsit.shape[0], 1), (15, 15), 0)\n",
    "workplace_blurred = cv2.GaussianBlur(workplace.reshape(workplace.shape[0], 1), (15, 15), 0)\n",
    "residential_blurred = cv2.GaussianBlur(residential.reshape(residential.shape[0], 1), (15, 15), 0)\n",
    "blurred_mobility[0][min_date:max_date+1] = retail_blurred.flatten()\n",
    "blurred_mobility[1][min_date:max_date+1] = grocery_blurred.flatten()\n",
    "blurred_mobility[2][min_date:max_date+1] = park_blurred.flatten()\n",
    "blurred_mobility[3][min_date:max_date+1] = trainsit_blurred.flatten()\n",
    "blurred_mobility[4][min_date:max_date+1] = workplace_blurred.flatten()\n",
    "blurred_mobility[5][min_date:max_date+1] = residential_blurred.flatten()\n",
    "blurred_mobility = blurred_mobility.T"
   ]
  },
  {
   "cell_type": "code",
   "execution_count": null,
   "metadata": {
    "collapsed": false
   },
   "outputs": [],
   "source": [
    "x = [Parameters.OUTBREAK_FIRST_DAY + datetime.timedelta(days=j) for j in range(1072)]\n",
    "plt.figure(figsize=(15,4))\n",
    "plt.plot(x, blurred_mobility)\n",
    "plt.xticks(rotation=45, ha='right')\n",
    "plt.show()"
   ]
  },
  {
   "cell_type": "code",
   "execution_count": null,
   "metadata": {
    "collapsed": false
   },
   "outputs": [],
   "source": [
    "dates = []"
   ]
  },
  {
   "cell_type": "code",
   "execution_count": null,
   "metadata": {
    "collapsed": false
   },
   "outputs": [],
   "source": [
    "out_df = pd.DataFrame(blurred_mobility[ (Ontario['date'].min() - Parameters.OUTBREAK_FIRST_DAY).days:(Ontario['date'].max() - Parameters.OUTBREAK_FIRST_DAY).days].astype(int), columns=['retail', 'grocery', 'park', 'trainsit', 'workplace', 'residential'])\n",
    "print(out_df)"
   ]
  },
  {
   "cell_type": "code",
   "execution_count": null,
   "metadata": {
    "collapsed": false
   },
   "outputs": [],
   "source": [
    "out_df['date'] =  [Ontario['date'].min()+ datetime.timedelta(days=j) for j in range((Ontario['date'].max()  - Ontario['date'].min()).days)]\n",
    "out_df.to_csv(os.getcwd()[:-5] + 'Model Dependencies/' + 'blurred_average_mobility.csv')"
   ]
  },
  {
   "cell_type": "code",
   "execution_count": null,
   "outputs": [],
   "source": [],
   "metadata": {
    "collapsed": false
   }
  }
 ],
 "metadata": {
  "kernelspec": {
   "display_name": "Python 3.9.7 64-bit",
   "language": "python",
   "name": "python3"
  },
  "language_info": {
   "codemirror_mode": {
    "name": "ipython",
    "version": 3
   },
   "file_extension": ".py",
   "mimetype": "text/x-python",
   "name": "python",
   "nbconvert_exporter": "python",
   "pygments_lexer": "ipython3",
   "version": "3.9.7"
  },
  "vscode": {
   "interpreter": {
    "hash": "aee8b7b246df8f9039afb4144a1f6fd8d2ca17a180786b69acc140d282b71a49"
   }
  }
 },
 "nbformat": 4,
 "nbformat_minor": 0
}
