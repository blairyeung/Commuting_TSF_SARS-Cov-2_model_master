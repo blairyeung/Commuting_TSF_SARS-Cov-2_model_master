{
 "cells": [
  {
   "cell_type": "code",
   "execution_count": 28,
   "metadata": {
    "collapsed": true
   },
   "outputs": [],
   "source": [
    "import pandas as pd\n",
    "import numpy as np\n",
    "from datetime import datetime\n",
    "import numpy as np\n",
    "import os\n",
    "import csv\n",
    "import pandas as pd\n",
    "import Gaussian\n",
    "import Parameters\n",
    "import Util\n",
    "import matplotlib.pyplot as plt\n",
    "from Dependency import Dependency"
   ]
  },
  {
   "cell_type": "code",
   "execution_count": 9,
   "outputs": [],
   "source": [
    "d = Dependency()\n",
    "path = os.getcwd()[:-5] + 'Model Dependencies/'\n",
    "read_path = path + 'Region_Mobility_Report_CSVs/'\n",
    "path_2020 = read_path + '2020_CA_Region_Mobility_Report.csv'\n",
    "path_2021 = read_path + '2021_CA_Region_Mobility_Report.csv'\n",
    "path_2022 = read_path + '2022_CA_Region_Mobility_Report.csv'\n",
    "df1 = pd.read_csv(path_2020)\n",
    "df2 = pd.read_csv(path_2021)\n",
    "df3 = pd.read_csv(path_2022)"
   ],
   "metadata": {
    "collapsed": false
   }
  },
  {
   "cell_type": "code",
   "execution_count": 10,
   "outputs": [],
   "source": [
    "df = pd.concat([df1, df2, df3])"
   ],
   "metadata": {
    "collapsed": false
   }
  },
  {
   "cell_type": "code",
   "execution_count": 11,
   "outputs": [
    {
     "name": "stdout",
     "output_type": "stream",
     "text": [
      "      country_region_code country_region sub_region_1 sub_region_2  \\\n",
      "0                      CA         Canada          NaN          NaN   \n",
      "1                      CA         Canada          NaN          NaN   \n",
      "2                      CA         Canada          NaN          NaN   \n",
      "3                      CA         Canada          NaN          NaN   \n",
      "4                      CA         Canada          NaN          NaN   \n",
      "...                   ...            ...          ...          ...   \n",
      "74211                  CA         Canada        Yukon          NaN   \n",
      "74212                  CA         Canada        Yukon          NaN   \n",
      "74213                  CA         Canada        Yukon          NaN   \n",
      "74214                  CA         Canada        Yukon          NaN   \n",
      "74215                  CA         Canada        Yukon          NaN   \n",
      "\n",
      "       metro_area iso_3166_2_code  census_fips_code  \\\n",
      "0             NaN             NaN               NaN   \n",
      "1             NaN             NaN               NaN   \n",
      "2             NaN             NaN               NaN   \n",
      "3             NaN             NaN               NaN   \n",
      "4             NaN             NaN               NaN   \n",
      "...           ...             ...               ...   \n",
      "74211         NaN           CA-YT               NaN   \n",
      "74212         NaN           CA-YT               NaN   \n",
      "74213         NaN           CA-YT               NaN   \n",
      "74214         NaN           CA-YT               NaN   \n",
      "74215         NaN           CA-YT               NaN   \n",
      "\n",
      "                          place_id        date  \\\n",
      "0      ChIJ2WrMN9MDDUsRpY9Doiq3aJk  2020-02-15   \n",
      "1      ChIJ2WrMN9MDDUsRpY9Doiq3aJk  2020-02-16   \n",
      "2      ChIJ2WrMN9MDDUsRpY9Doiq3aJk  2020-02-17   \n",
      "3      ChIJ2WrMN9MDDUsRpY9Doiq3aJk  2020-02-18   \n",
      "4      ChIJ2WrMN9MDDUsRpY9Doiq3aJk  2020-02-19   \n",
      "...                            ...         ...   \n",
      "74211  ChIJiYtStJiBF1ER6pbMYdWcFC4  2022-10-11   \n",
      "74212  ChIJiYtStJiBF1ER6pbMYdWcFC4  2022-10-12   \n",
      "74213  ChIJiYtStJiBF1ER6pbMYdWcFC4  2022-10-13   \n",
      "74214  ChIJiYtStJiBF1ER6pbMYdWcFC4  2022-10-14   \n",
      "74215  ChIJiYtStJiBF1ER6pbMYdWcFC4  2022-10-15   \n",
      "\n",
      "       retail_and_recreation_percent_change_from_baseline  \\\n",
      "0                                                    4.0    \n",
      "1                                                   13.0    \n",
      "2                                                  -12.0    \n",
      "3                                                   -1.0    \n",
      "4                                                    1.0    \n",
      "...                                                  ...    \n",
      "74211                                              -14.0    \n",
      "74212                                               -9.0    \n",
      "74213                                               -6.0    \n",
      "74214                                              -10.0    \n",
      "74215                                              -18.0    \n",
      "\n",
      "       grocery_and_pharmacy_percent_change_from_baseline  \\\n",
      "0                                                    2.0   \n",
      "1                                                    8.0   \n",
      "2                                                  -15.0   \n",
      "3                                                    4.0   \n",
      "4                                                    1.0   \n",
      "...                                                  ...   \n",
      "74211                                                NaN   \n",
      "74212                                                NaN   \n",
      "74213                                                NaN   \n",
      "74214                                                NaN   \n",
      "74215                                                NaN   \n",
      "\n",
      "       parks_percent_change_from_baseline  \\\n",
      "0                                    10.0   \n",
      "1                                    41.0   \n",
      "2                                    63.0   \n",
      "3                                     6.0   \n",
      "4                                     9.0   \n",
      "...                                   ...   \n",
      "74211                                 NaN   \n",
      "74212                                 NaN   \n",
      "74213                                 NaN   \n",
      "74214                                 NaN   \n",
      "74215                                 NaN   \n",
      "\n",
      "       transit_stations_percent_change_from_baseline  \\\n",
      "0                                                3.0   \n",
      "1                                                4.0   \n",
      "2                                              -28.0   \n",
      "3                                               -1.0   \n",
      "4                                                0.0   \n",
      "...                                              ...   \n",
      "74211                                            NaN   \n",
      "74212                                            NaN   \n",
      "74213                                            NaN   \n",
      "74214                                            NaN   \n",
      "74215                                            NaN   \n",
      "\n",
      "       workplaces_percent_change_from_baseline  \\\n",
      "0                                          1.0   \n",
      "1                                          0.0   \n",
      "2                                        -52.0   \n",
      "3                                         -1.0   \n",
      "4                                          0.0   \n",
      "...                                        ...   \n",
      "74211                                      3.0   \n",
      "74212                                      6.0   \n",
      "74213                                      3.0   \n",
      "74214                                      4.0   \n",
      "74215                                      NaN   \n",
      "\n",
      "       residential_percent_change_from_baseline  \n",
      "0                                           0.0  \n",
      "1                                          -2.0  \n",
      "2                                          11.0  \n",
      "3                                           1.0  \n",
      "4                                           0.0  \n",
      "...                                         ...  \n",
      "74211                                       NaN  \n",
      "74212                                       NaN  \n",
      "74213                                       NaN  \n",
      "74214                                       NaN  \n",
      "74215                                       NaN  \n",
      "\n",
      "[245482 rows x 15 columns]\n"
     ]
    }
   ],
   "source": [
    "print(df)"
   ],
   "metadata": {
    "collapsed": false
   }
  },
  {
   "cell_type": "code",
   "execution_count": 24,
   "outputs": [
    {
     "name": "stdout",
     "output_type": "stream",
     "text": [
      "1004 31\n"
     ]
    },
    {
     "name": "stderr",
     "output_type": "stream",
     "text": [
      "C:\\Users\\loveb\\AppData\\Local\\Temp\\ipykernel_37928\\1164355118.py:3: SettingWithCopyWarning: \n",
      "A value is trying to be set on a copy of a slice from a DataFrame.\n",
      "Try using .loc[row_indexer,col_indexer] = value instead\n",
      "\n",
      "See the caveats in the documentation: https://pandas.pydata.org/pandas-docs/stable/user_guide/indexing.html#returning-a-view-versus-a-copy\n",
      "  Ontario['date'] = pd.to_datetime(Ontario['date'])\n"
     ]
    }
   ],
   "source": [
    "groups = df.groupby('iso_3166_2_code')\n",
    "Ontario = groups.get_group('CA-ON')\n",
    "Ontario['date'] = pd.to_datetime(Ontario['date'])\n",
    "max_date = (Ontario['date'].max() - Parameters.OUTBREAK_FIRST_DAY).days\n",
    "min_date = (Ontario['date'].min() - Parameters.OUTBREAK_FIRST_DAY).days\n",
    "print(max_date, min_date)"
   ],
   "metadata": {
    "collapsed": false
   }
  },
  {
   "cell_type": "code",
   "execution_count": 33,
   "outputs": [],
   "source": [
    "mobility = np.ones(shape=(6, d.total_days))"
   ],
   "metadata": {
    "collapsed": false
   }
  },
  {
   "cell_type": "code",
   "execution_count": 38,
   "outputs": [],
   "source": [
    "retail = Ontario['retail_and_recreation_percent_change_from_baseline'].to_numpy()\n",
    "grocery = Ontario['grocery_and_pharmacy_percent_change_from_baseline'].to_numpy()\n",
    "park = Ontario['parks_percent_change_from_baseline'].to_numpy()\n",
    "trainsit = Ontario['transit_stations_percent_change_from_baseline'].to_numpy()\n",
    "workplace = Ontario['workplaces_percent_change_from_baseline'].to_numpy()\n",
    "residential = Ontario['residential_percent_change_from_baseline'].to_numpy()\n",
    "mobility[0][min_date:max_date+1] = retail\n",
    "mobility[1][min_date:max_date+1] = grocery\n",
    "mobility[2][min_date:max_date+1] = park\n",
    "mobility[3][min_date:max_date+1] = trainsit\n",
    "mobility[4][min_date:max_date+1] = workplace\n",
    "mobility[5][min_date:max_date+1] = residential\n",
    "mobility = mobility.T"
   ],
   "metadata": {
    "collapsed": false
   }
  }
 ],
 "metadata": {
  "kernelspec": {
   "display_name": "Python 3",
   "language": "python",
   "name": "python3"
  },
  "language_info": {
   "codemirror_mode": {
    "name": "ipython",
    "version": 2
   },
   "file_extension": ".py",
   "mimetype": "text/x-python",
   "name": "python",
   "nbconvert_exporter": "python",
   "pygments_lexer": "ipython2",
   "version": "2.7.6"
  }
 },
 "nbformat": 4,
 "nbformat_minor": 0
}
