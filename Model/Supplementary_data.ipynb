{
 "cells": [
  {
   "cell_type": "code",
   "execution_count": 1,
   "metadata": {
    "collapsed": true
   },
   "outputs": [],
   "source": [
    "import cv2\n",
    "import pandas as pd\n",
    "import os\n",
    "import csv\n",
    "import numpy as np\n",
    "import matplotlib.pyplot as plt\n",
    "from datetime import datetime\n",
    "import Dependency"
   ]
  },
  {
   "cell_type": "markdown",
   "source": [
    "# Hospitalization, ICU, and CFR computation"
   ],
   "metadata": {
    "collapsed": false
   }
  },
  {
   "cell_type": "code",
   "execution_count": null,
   "outputs": [],
   "source": [
    "def augment_ontario_public_health(lst):\n",
    "    augment = np.zeros(shape=(100,))\n",
    "    augment[0:12] = np.array([lst[0]] * 12)\n",
    "    augment[12:20] = np.array([lst[1]] * 8)\n",
    "    augment[20:30] = np.array([lst[2]] * 10)\n",
    "    augment[30:40] = np.array([lst[3]] * 10)\n",
    "    augment[40:50] = np.array([lst[4]] * 10)\n",
    "    augment[50:60] = np.array([lst[5]] * 10)\n",
    "    augment[60:70] = np.array([lst[6]] * 10)\n",
    "    augment[70:80] = np.array([lst[7]] * 10)\n",
    "    augment[80:] = np.array([lst[8]] * 20)\n",
    "    return augment"
   ],
   "metadata": {
    "collapsed": false,
    "pycharm": {
     "is_executing": true
    }
   }
  },
  {
   "cell_type": "code",
   "execution_count": null,
   "outputs": [],
   "source": [
    "def stratification(raw=np.zeros(shape=(100, ))):\n",
    "    age_stratification = np.zeros(shape=(16, ))\n",
    "    for i in range(15):\n",
    "        age_stratification[i] = np.sum(raw[5*i:5 * (i+1)]) / 5\n",
    "    age_stratification[15] = np.sum(raw[74:]) / 25\n",
    "    return age_stratification"
   ],
   "metadata": {
    "collapsed": false,
    "pycharm": {
     "is_executing": true
    }
   }
  },
  {
   "cell_type": "code",
   "execution_count": null,
   "outputs": [],
   "source": [
    "d = Dependency.Dependency()\n",
    "cases_read_path = d.get_dependency_path() + 'Canada_hospitalization_inference.csv'\n",
    "df = pd.read_csv(cases_read_path)\n",
    "print(df)\n",
    "cases = np.array(list(df.cases))\n",
    "hospitalization = np.array(list(df.hospitalization))\n",
    "icu = np.array(list(df.ICU))\n",
    "deaths = np.array(list(df.death))"
   ],
   "metadata": {
    "collapsed": false,
    "pycharm": {
     "is_executing": true
    }
   }
  },
  {
   "cell_type": "code",
   "execution_count": null,
   "outputs": [],
   "source": [
    "cases_augment = augment_ontario_public_health(cases)\n",
    "hospitalized_augment = augment_ontario_public_health(hospitalization)\n",
    "icu_augment = augment_ontario_public_health(icu)\n",
    "deaths_augment = augment_ontario_public_health(deaths)"
   ],
   "metadata": {
    "collapsed": false,
    "pycharm": {
     "is_executing": true
    }
   }
  },
  {
   "cell_type": "code",
   "execution_count": null,
   "outputs": [],
   "source": [
    "cases_augment = np.reshape(np.array(cv2.GaussianBlur(cases_augment.reshape(100, 1), (25, 25), 0)), newshape=(100,))\n",
    "hospitalized_augment = np.reshape(np.array(cv2.GaussianBlur(hospitalized_augment.reshape(100, 1), (25, 25), 0)), newshape=(100,))\n",
    "icu_augment = np.reshape(np.array(cv2.GaussianBlur(icu_augment.reshape(100, 1), (25, 25), 0)), newshape=(100,))\n",
    "deaths_augment = np.reshape(np.array(cv2.GaussianBlur(deaths_augment.reshape(100, 1), (25, 25), 0)), newshape=(100,))"
   ],
   "metadata": {
    "collapsed": false,
    "pycharm": {
     "is_executing": true
    }
   }
  },
  {
   "cell_type": "code",
   "execution_count": null,
   "outputs": [],
   "source": [
    "hosp_ratio = hospitalized_augment / cases_augment\n",
    "icu_ratio = icu_augment / cases_augment\n",
    "cfr = deaths_augment / cases_augment"
   ],
   "metadata": {
    "collapsed": false,
    "pycharm": {
     "is_executing": true
    }
   }
  },
  {
   "cell_type": "code",
   "execution_count": null,
   "outputs": [],
   "source": [
    "plt.plot(list(range(0, 100)), hosp_ratio)\n",
    "plt.show()"
   ],
   "metadata": {
    "collapsed": false,
    "pycharm": {
     "is_executing": true
    }
   }
  },
  {
   "cell_type": "code",
   "execution_count": null,
   "outputs": [],
   "source": [
    "plt.plot(list(range(0, 100)), icu_ratio)\n",
    "plt.show()"
   ],
   "metadata": {
    "collapsed": false,
    "pycharm": {
     "is_executing": true
    }
   }
  },
  {
   "cell_type": "code",
   "execution_count": null,
   "outputs": [],
   "source": [
    "plt.plot(list(range(0, 100)), cfr)\n",
    "plt.show()"
   ],
   "metadata": {
    "collapsed": false,
    "pycharm": {
     "is_executing": true
    }
   }
  },
  {
   "cell_type": "code",
   "execution_count": null,
   "outputs": [],
   "source": [
    "case_stratified = stratification(raw=cases_augment)\n",
    "hosp_stratified = stratification(raw=hosp_ratio)\n",
    "icu_stratified = stratification(raw=icu_ratio)\n",
    "cfr_stratified = stratification(raw=cfr)"
   ],
   "metadata": {
    "collapsed": false,
    "pycharm": {
     "is_executing": true
    }
   }
  },
  {
   "cell_type": "code",
   "execution_count": null,
   "outputs": [],
   "source": [
    "plt.figure(figsize=(15,6))\n",
    "plt.subplot()\n",
    "plt.subplot(1,3,1), plt.bar(range(0, 16), hosp_stratified)\n",
    "plt.subplot(1,3,2), plt.bar(range(0, 16), icu_stratified)\n",
    "plt.subplot(1,3,3), plt.bar(range(0, 16), cfr_stratified)"
   ],
   "metadata": {
    "collapsed": false,
    "pycharm": {
     "is_executing": true
    }
   }
  },
  {
   "cell_type": "code",
   "execution_count": null,
   "outputs": [],
   "source": [
    "print(case_stratified / np.sum(case_stratified))\n",
    "print(hosp_stratified)\n",
    "print(np.min(hosp_stratified), np.max(hosp_stratified))\n",
    "print(icu_stratified)\n",
    "print(np.min(icu_stratified), np.max(icu_stratified))\n",
    "print(cfr_stratified)\n",
    "print(np.min(cfr_stratified), np.max(cfr_stratified))"
   ],
   "metadata": {
    "collapsed": false,
    "pycharm": {
     "is_executing": true
    }
   }
  },
  {
   "cell_type": "code",
   "execution_count": null,
   "outputs": [],
   "source": [
    "susceptibility_raw = np.zeros(shape=(100, ))\n",
    "\n",
    "susceptibility_raw[0:10] = 0.4\n",
    "susceptibility_raw[10:20] = 0.38\n",
    "susceptibility_raw[20:30] = 0.79\n",
    "susceptibility_raw[30:40] = 0.86\n",
    "susceptibility_raw[40:50] = 0.8\n",
    "susceptibility_raw[50:60] = 0.82\n",
    "susceptibility_raw[60:70] = 0.88\n",
    "susceptibility_raw[70:100] = 0.74\n",
    "\n",
    "susceptibility = np.reshape(np.array(cv2.GaussianBlur(susceptibility_raw.reshape(100, 1), (25, 25), 0)),\n",
    "                            newshape=(100,))\n",
    "\n",
    "susceptibility_stratified = stratification(raw=susceptibility)"
   ],
   "metadata": {
    "collapsed": false,
    "pycharm": {
     "is_executing": true
    }
   }
  },
  {
   "cell_type": "code",
   "execution_count": null,
   "outputs": [],
   "source": [
    "clinical_raw = np.zeros(shape=(100, ))\n",
    "\n",
    "clinical_raw[0:10] = 0.29\n",
    "clinical_raw[10:20] = 0.21\n",
    "clinical_raw[20:30] = 0.27\n",
    "clinical_raw[30:40] = 0.33\n",
    "clinical_raw[40:50] = 0.4\n",
    "clinical_raw[50:60] = 0.49\n",
    "clinical_raw[60:70] = 0.63\n",
    "clinical_raw[70:100] = 0.69\n",
    "\n",
    "clinical = np.reshape(np.array(cv2.GaussianBlur(clinical_raw.reshape(100, 1), (25, 25), 0)),\n",
    "                            newshape=(100,))\n",
    "\n",
    "clinical_stratified = stratification(raw=clinical)"
   ],
   "metadata": {
    "collapsed": false,
    "pycharm": {
     "is_executing": true
    }
   }
  },
  {
   "cell_type": "code",
   "execution_count": null,
   "outputs": [],
   "source": [
    "plt.figure(figsize=(15,6))\n",
    "plt.subplot()\n",
    "plt.subplot(1,2,1), plt.plot(susceptibility_raw)\n",
    "plt.subplot(1,2,2), plt.plot(clinical_raw)"
   ],
   "metadata": {
    "collapsed": false,
    "pycharm": {
     "is_executing": true
    }
   }
  },
  {
   "cell_type": "code",
   "execution_count": null,
   "outputs": [],
   "source": [
    "plt.figure(figsize=(15,6))\n",
    "plt.subplot()\n",
    "plt.subplot(1,2,1), plt.plot(susceptibility)\n",
    "plt.subplot(1,2,2), plt.plot(clinical)"
   ],
   "metadata": {
    "collapsed": false,
    "pycharm": {
     "is_executing": true
    }
   }
  },
  {
   "cell_type": "code",
   "execution_count": null,
   "outputs": [],
   "source": [
    "plt.figure(figsize=(15,6))\n",
    "plt.subplot()\n",
    "plt.subplot(1,2,1), plt.bar(range(0, 16), susceptibility_stratified)\n",
    "plt.subplot(1,2,2), plt.bar(range(0, 16), clinical_stratified)"
   ],
   "metadata": {
    "collapsed": false,
    "pycharm": {
     "is_executing": true
    }
   }
  },
  {
   "cell_type": "code",
   "execution_count": null,
   "outputs": [],
   "source": [
    "print(susceptibility_stratified)\n",
    "print(clinical_stratified)"
   ],
   "metadata": {
    "collapsed": false,
    "pycharm": {
     "is_executing": true
    }
   }
  },
  {
   "cell_type": "markdown",
   "source": [
    "## Fraction calculation (normalization)"
   ],
   "metadata": {
    "collapsed": false
   }
  },
  {
   "cell_type": "code",
   "execution_count": null,
   "outputs": [],
   "source": [
    "case_dist = cases_augment/ np.sum(cases_augment)\n",
    "hosp_dist = hospitalized_augment / np.sum(hospitalized_augment)\n",
    "icu_dist = icu_augment/ np.sum(icu_augment)\n",
    "deaths_dist = deaths_augment / np.sum(deaths_augment)\n",
    "\n",
    "print(sum(case_dist), sum(hosp_dist), sum(icu_dist), sum(deaths_dist))"
   ],
   "metadata": {
    "collapsed": false,
    "pycharm": {
     "is_executing": true
    }
   }
  },
  {
   "cell_type": "code",
   "execution_count": null,
   "outputs": [],
   "source": [
    "plt.figure(figsize=(15,3))\n",
    "plt.subplot()\n",
    "plt.subplot(1,4,1), plt.plot(case_dist)\n",
    "plt.subplot(1,4,2), plt.plot(hosp_dist)\n",
    "plt.subplot(1,4,3), plt.plot(icu_dist)\n",
    "plt.subplot(1,4,4), plt.plot(deaths_dist)\n",
    "plt.show()\n",
    "print(sum(case_dist), sum(hosp_dist), sum(icu_dist), sum(deaths_dist))"
   ],
   "metadata": {
    "collapsed": false,
    "pycharm": {
     "is_executing": true
    }
   }
  },
  {
   "cell_type": "code",
   "execution_count": null,
   "outputs": [],
   "source": [
    "case_dist = stratification(case_dist)\n",
    "hosp_dist = stratification(hosp_dist)\n",
    "icu_dist = stratification(icu_dist)\n",
    "deaths_dist = stratification(deaths_dist)\n",
    "\n",
    "# Normalize\n",
    "\n",
    "case_dist = case_dist / np.sum(case_dist)\n",
    "hosp_dist = hosp_dist /  np.sum(hosp_dist)\n",
    "icu_dist = icu_dist / np.sum(icu_dist)\n",
    "deaths_dist = deaths_dist /  np.sum(deaths_dist)\n",
    "\n",
    "print(sum(case_dist), sum(hosp_dist), sum(icu_dist), sum(deaths_dist))"
   ],
   "metadata": {
    "collapsed": false,
    "pycharm": {
     "is_executing": true
    }
   }
  },
  {
   "cell_type": "code",
   "execution_count": null,
   "outputs": [],
   "source": [
    "plt.figure(figsize=(15,3))\n",
    "plt.subplot()\n",
    "plt.subplot(1,4,1), plt.bar(range(0, 16), case_dist)\n",
    "plt.subplot(1,4,2), plt.bar(range(0, 16), hosp_dist)\n",
    "plt.subplot(1,4,3), plt.bar(range(0, 16), icu_dist)\n",
    "plt.subplot(1,4,4), plt.bar(range(0, 16), deaths_dist)\n"
   ],
   "metadata": {
    "collapsed": false,
    "pycharm": {
     "is_executing": true
    }
   }
  },
  {
   "cell_type": "code",
   "execution_count": null,
   "outputs": [],
   "source": [
    "print(case_dist)\n",
    "print(hosp_dist)\n",
    "print(icu_dist)\n",
    "print(deaths_dist)"
   ],
   "metadata": {
    "collapsed": false,
    "pycharm": {
     "is_executing": true
    }
   }
  },
  {
   "cell_type": "code",
   "execution_count": null,
   "outputs": [],
   "source": [
    "print(np.sum(icu) / np.sum(hospitalization))"
   ],
   "metadata": {
    "collapsed": false,
    "pycharm": {
     "is_executing": true
    }
   }
  }
 ],
 "metadata": {
  "kernelspec": {
   "display_name": "Python 3",
   "language": "python",
   "name": "python3"
  },
  "language_info": {
   "codemirror_mode": {
    "name": "ipython",
    "version": 2
   },
   "file_extension": ".py",
   "mimetype": "text/x-python",
   "name": "python",
   "nbconvert_exporter": "python",
   "pygments_lexer": "ipython2",
   "version": "2.7.6"
  }
 },
 "nbformat": 4,
 "nbformat_minor": 0
}
