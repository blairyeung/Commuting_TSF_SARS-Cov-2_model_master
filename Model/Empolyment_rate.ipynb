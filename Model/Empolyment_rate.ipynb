{
 "cells": [
  {
   "cell_type": "code",
   "execution_count": 10,
   "metadata": {
    "collapsed": true
   },
   "outputs": [],
   "source": [
    "import os\n",
    "import numpy as np\n",
    "import pandas as pd\n",
    "import cv2"
   ]
  },
  {
   "cell_type": "code",
   "execution_count": 24,
   "outputs": [],
   "source": [
    "def stratification(raw=np.zeros(shape=(100, ))):\n",
    "    age_stratification = np.zeros(shape=(16, ))\n",
    "    for i in range(15):\n",
    "        age_stratification[i] = np.sum(raw[5*i:5 * (i+1)]) / 5\n",
    "    age_stratification[15] = np.sum(raw[74:]) / 25\n",
    "    return age_stratification"
   ],
   "metadata": {
    "collapsed": false
   }
  },
  {
   "cell_type": "code",
   "execution_count": 4,
   "outputs": [
    {
     "name": "stdout",
     "output_type": "stream",
     "text": [
      "   REF_DATE      GEO        DGUID Labour force characteristics         Sex  \\\n",
      "0   2022-11  Ontario  2016A000235                   Population  Both sexes   \n",
      "1   2022-11  Ontario  2016A000235                   Population  Both sexes   \n",
      "2   2022-11  Ontario  2016A000235                   Population  Both sexes   \n",
      "3   2022-11  Ontario  2016A000235                   Population  Both sexes   \n",
      "4   2022-11  Ontario  2016A000235                   Population  Both sexes   \n",
      "5   2022-11  Ontario  2016A000235                 Labour force  Both sexes   \n",
      "6   2022-11  Ontario  2016A000235                 Labour force  Both sexes   \n",
      "7   2022-11  Ontario  2016A000235                 Labour force  Both sexes   \n",
      "8   2022-11  Ontario  2016A000235                 Labour force  Both sexes   \n",
      "9   2022-11  Ontario  2016A000235                 Labour force  Both sexes   \n",
      "10  2022-11  Ontario  2016A000235                   Employment  Both sexes   \n",
      "11  2022-11  Ontario  2016A000235                   Employment  Both sexes   \n",
      "12  2022-11  Ontario  2016A000235                   Employment  Both sexes   \n",
      "13  2022-11  Ontario  2016A000235                   Employment  Both sexes   \n",
      "14  2022-11  Ontario  2016A000235                   Employment  Both sexes   \n",
      "15  2022-11  Ontario  2016A000235         Full-time employment  Both sexes   \n",
      "16  2022-11  Ontario  2016A000235         Full-time employment  Both sexes   \n",
      "17  2022-11  Ontario  2016A000235         Full-time employment  Both sexes   \n",
      "18  2022-11  Ontario  2016A000235         Full-time employment  Both sexes   \n",
      "19  2022-11  Ontario  2016A000235         Full-time employment  Both sexes   \n",
      "20  2022-11  Ontario  2016A000235        Part-time employment   Both sexes   \n",
      "21  2022-11  Ontario  2016A000235        Part-time employment   Both sexes   \n",
      "22  2022-11  Ontario  2016A000235        Part-time employment   Both sexes   \n",
      "23  2022-11  Ontario  2016A000235        Part-time employment   Both sexes   \n",
      "24  2022-11  Ontario  2016A000235        Part-time employment   Both sexes   \n",
      "25  2022-11  Ontario  2016A000235                 Unemployment  Both sexes   \n",
      "26  2022-11  Ontario  2016A000235                 Unemployment  Both sexes   \n",
      "27  2022-11  Ontario  2016A000235                 Unemployment  Both sexes   \n",
      "28  2022-11  Ontario  2016A000235                 Unemployment  Both sexes   \n",
      "29  2022-11  Ontario  2016A000235                 Unemployment  Both sexes   \n",
      "30  2022-11  Ontario  2016A000235            Unemployment rate  Both sexes   \n",
      "31  2022-11  Ontario  2016A000235            Unemployment rate  Both sexes   \n",
      "32  2022-11  Ontario  2016A000235            Unemployment rate  Both sexes   \n",
      "33  2022-11  Ontario  2016A000235            Unemployment rate  Both sexes   \n",
      "34  2022-11  Ontario  2016A000235            Unemployment rate  Both sexes   \n",
      "35  2022-11  Ontario  2016A000235           Participation rate  Both sexes   \n",
      "36  2022-11  Ontario  2016A000235           Participation rate  Both sexes   \n",
      "37  2022-11  Ontario  2016A000235           Participation rate  Both sexes   \n",
      "38  2022-11  Ontario  2016A000235           Participation rate  Both sexes   \n",
      "39  2022-11  Ontario  2016A000235           Participation rate  Both sexes   \n",
      "40  2022-11  Ontario  2016A000235              Employment rate  Both sexes   \n",
      "41  2022-11  Ontario  2016A000235              Employment rate  Both sexes   \n",
      "42  2022-11  Ontario  2016A000235              Employment rate  Both sexes   \n",
      "43  2022-11  Ontario  2016A000235              Employment rate  Both sexes   \n",
      "44  2022-11  Ontario  2016A000235              Employment rate  Both sexes   \n",
      "\n",
      "            Age group Statistics            Data type         UOM  UOM_ID  \\\n",
      "0   15 years and over   Estimate  Seasonally adjusted     Persons     249   \n",
      "1      15 to 24 years   Estimate  Seasonally adjusted     Persons     249   \n",
      "2   25 years and over   Estimate  Seasonally adjusted     Persons     249   \n",
      "3      25 to 54 years   Estimate  Seasonally adjusted     Persons     249   \n",
      "4   55 years and over   Estimate  Seasonally adjusted     Persons     249   \n",
      "5   15 years and over   Estimate  Seasonally adjusted     Persons     249   \n",
      "6      15 to 24 years   Estimate  Seasonally adjusted     Persons     249   \n",
      "7   25 years and over   Estimate  Seasonally adjusted     Persons     249   \n",
      "8      25 to 54 years   Estimate  Seasonally adjusted     Persons     249   \n",
      "9   55 years and over   Estimate  Seasonally adjusted     Persons     249   \n",
      "10  15 years and over   Estimate  Seasonally adjusted     Persons     249   \n",
      "11     15 to 24 years   Estimate  Seasonally adjusted     Persons     249   \n",
      "12  25 years and over   Estimate  Seasonally adjusted     Persons     249   \n",
      "13     25 to 54 years   Estimate  Seasonally adjusted     Persons     249   \n",
      "14  55 years and over   Estimate  Seasonally adjusted     Persons     249   \n",
      "15  15 years and over   Estimate  Seasonally adjusted     Persons     249   \n",
      "16     15 to 24 years   Estimate  Seasonally adjusted     Persons     249   \n",
      "17  25 years and over   Estimate  Seasonally adjusted     Persons     249   \n",
      "18     25 to 54 years   Estimate  Seasonally adjusted     Persons     249   \n",
      "19  55 years and over   Estimate  Seasonally adjusted     Persons     249   \n",
      "20  15 years and over   Estimate  Seasonally adjusted     Persons     249   \n",
      "21     15 to 24 years   Estimate  Seasonally adjusted     Persons     249   \n",
      "22  25 years and over   Estimate  Seasonally adjusted     Persons     249   \n",
      "23     25 to 54 years   Estimate  Seasonally adjusted     Persons     249   \n",
      "24  55 years and over   Estimate  Seasonally adjusted     Persons     249   \n",
      "25  15 years and over   Estimate  Seasonally adjusted     Persons     249   \n",
      "26     15 to 24 years   Estimate  Seasonally adjusted     Persons     249   \n",
      "27  25 years and over   Estimate  Seasonally adjusted     Persons     249   \n",
      "28     25 to 54 years   Estimate  Seasonally adjusted     Persons     249   \n",
      "29  55 years and over   Estimate  Seasonally adjusted     Persons     249   \n",
      "30  15 years and over   Estimate  Seasonally adjusted  Percentage     242   \n",
      "31     15 to 24 years   Estimate  Seasonally adjusted  Percentage     242   \n",
      "32  25 years and over   Estimate  Seasonally adjusted  Percentage     242   \n",
      "33     25 to 54 years   Estimate  Seasonally adjusted  Percentage     242   \n",
      "34  55 years and over   Estimate  Seasonally adjusted  Percentage     242   \n",
      "35  15 years and over   Estimate  Seasonally adjusted  Percentage     242   \n",
      "36     15 to 24 years   Estimate  Seasonally adjusted  Percentage     242   \n",
      "37  25 years and over   Estimate  Seasonally adjusted  Percentage     242   \n",
      "38     25 to 54 years   Estimate  Seasonally adjusted  Percentage     242   \n",
      "39  55 years and over   Estimate  Seasonally adjusted  Percentage     242   \n",
      "40  15 years and over   Estimate  Seasonally adjusted  Percentage     242   \n",
      "41     15 to 24 years   Estimate  Seasonally adjusted  Percentage     242   \n",
      "42  25 years and over   Estimate  Seasonally adjusted  Percentage     242   \n",
      "43     25 to 54 years   Estimate  Seasonally adjusted  Percentage     242   \n",
      "44  55 years and over   Estimate  Seasonally adjusted  Percentage     242   \n",
      "\n",
      "   SCALAR_FACTOR  SCALAR_ID    VECTOR   COORDINATE    VALUE  STATUS  SYMBOL  \\\n",
      "0      thousands          3  v2063943  7.1.1.1.1.1  12585.2     NaN     NaN   \n",
      "1      thousands          3  v2063970  7.1.1.2.1.1   1864.1     NaN     NaN   \n",
      "2      thousands          3  v2064051  7.1.1.5.1.1  10721.1     NaN     NaN   \n",
      "3      thousands          3  v2064078  7.1.1.6.1.1   6004.4     NaN     NaN   \n",
      "4      thousands          3  v2064105  7.1.1.7.1.1   4716.7     NaN     NaN   \n",
      "5      thousands          3  v2063944  7.2.1.1.1.1   8153.8     NaN     NaN   \n",
      "6      thousands          3  v2063971  7.2.1.2.1.1   1147.3     NaN     NaN   \n",
      "7      thousands          3  v2064052  7.2.1.5.1.1   7006.5     NaN     NaN   \n",
      "8      thousands          3  v2064079  7.2.1.6.1.1   5259.1     NaN     NaN   \n",
      "9      thousands          3  v2064106  7.2.1.7.1.1   1747.4     NaN     NaN   \n",
      "10     thousands          3  v2063945  7.3.1.1.1.1   7701.6     NaN     NaN   \n",
      "11     thousands          3  v2063972  7.3.1.2.1.1   1007.8     NaN     NaN   \n",
      "12     thousands          3  v2064053  7.3.1.5.1.1   6693.8     NaN     NaN   \n",
      "13     thousands          3  v2064080  7.3.1.6.1.1   5028.0     NaN     NaN   \n",
      "14     thousands          3  v2064107  7.3.1.7.1.1   1665.7     NaN     NaN   \n",
      "15     thousands          3  v2063946  7.4.1.1.1.1   6375.2     NaN     NaN   \n",
      "16     thousands          3  v2063973  7.4.1.2.1.1    518.7     NaN     NaN   \n",
      "17     thousands          3  v2064054  7.4.1.5.1.1   5856.5     NaN     NaN   \n",
      "18     thousands          3  v2064081  7.4.1.6.1.1   4515.8     NaN     NaN   \n",
      "19     thousands          3  v2064108  7.4.1.7.1.1   1340.6     NaN     NaN   \n",
      "20     thousands          3  v2063947  7.5.1.1.1.1   1326.4     NaN     NaN   \n",
      "21     thousands          3  v2063974  7.5.1.2.1.1    489.1     NaN     NaN   \n",
      "22     thousands          3  v2064055  7.5.1.5.1.1    837.3     NaN     NaN   \n",
      "23     thousands          3  v2064082  7.5.1.6.1.1    512.2     NaN     NaN   \n",
      "24     thousands          3  v2064109  7.5.1.7.1.1    325.1     NaN     NaN   \n",
      "25     thousands          3  v2063948  7.6.1.1.1.1    452.1     NaN     NaN   \n",
      "26     thousands          3  v2063975  7.6.1.2.1.1    139.4     NaN     NaN   \n",
      "27     thousands          3  v2064056  7.6.1.5.1.1    312.7     NaN     NaN   \n",
      "28     thousands          3  v2064083  7.6.1.6.1.1    231.0     NaN     NaN   \n",
      "29     thousands          3  v2064110  7.6.1.7.1.1     81.7     NaN     NaN   \n",
      "30         units          0  v2063949  7.7.1.1.1.1      5.5     NaN     NaN   \n",
      "31         units          0  v2063976  7.7.1.2.1.1     12.2     NaN     NaN   \n",
      "32         units          0  v2064057  7.7.1.5.1.1      4.5     NaN     NaN   \n",
      "33         units          0  v2064084  7.7.1.6.1.1      4.4     NaN     NaN   \n",
      "34         units          0  v2064111  7.7.1.7.1.1      4.7     NaN     NaN   \n",
      "35         units          0  v2063950  7.8.1.1.1.1     64.8     NaN     NaN   \n",
      "36         units          0  v2063977  7.8.1.2.1.1     61.5     NaN     NaN   \n",
      "37         units          0  v2064058  7.8.1.5.1.1     65.4     NaN     NaN   \n",
      "38         units          0  v2064085  7.8.1.6.1.1     87.6     NaN     NaN   \n",
      "39         units          0  v2064112  7.8.1.7.1.1     37.0     NaN     NaN   \n",
      "40         units          0  v2063951  7.9.1.1.1.1     61.2     NaN     NaN   \n",
      "41         units          0  v2063978  7.9.1.2.1.1     54.1     NaN     NaN   \n",
      "42         units          0  v2064059  7.9.1.5.1.1     62.4     NaN     NaN   \n",
      "43         units          0  v2064086  7.9.1.6.1.1     83.7     NaN     NaN   \n",
      "44         units          0  v2064113  7.9.1.7.1.1     35.3     NaN     NaN   \n",
      "\n",
      "    TERMINATED  DECIMALS  \n",
      "0          NaN         1  \n",
      "1          NaN         1  \n",
      "2          NaN         1  \n",
      "3          NaN         1  \n",
      "4          NaN         1  \n",
      "5          NaN         1  \n",
      "6          NaN         1  \n",
      "7          NaN         1  \n",
      "8          NaN         1  \n",
      "9          NaN         1  \n",
      "10         NaN         1  \n",
      "11         NaN         1  \n",
      "12         NaN         1  \n",
      "13         NaN         1  \n",
      "14         NaN         1  \n",
      "15         NaN         1  \n",
      "16         NaN         1  \n",
      "17         NaN         1  \n",
      "18         NaN         1  \n",
      "19         NaN         1  \n",
      "20         NaN         1  \n",
      "21         NaN         1  \n",
      "22         NaN         1  \n",
      "23         NaN         1  \n",
      "24         NaN         1  \n",
      "25         NaN         1  \n",
      "26         NaN         1  \n",
      "27         NaN         1  \n",
      "28         NaN         1  \n",
      "29         NaN         1  \n",
      "30         NaN         1  \n",
      "31         NaN         1  \n",
      "32         NaN         1  \n",
      "33         NaN         1  \n",
      "34         NaN         1  \n",
      "35         NaN         1  \n",
      "36         NaN         1  \n",
      "37         NaN         1  \n",
      "38         NaN         1  \n",
      "39         NaN         1  \n",
      "40         NaN         1  \n",
      "41         NaN         1  \n",
      "42         NaN         1  \n",
      "43         NaN         1  \n",
      "44         NaN         1  \n"
     ]
    }
   ],
   "source": [
    "path = os.getcwd()[:-5] + 'Model Dependencies/1410028702_databaseLoadingData.csv'\n",
    "df = pd.read_csv(path)\n",
    "print(df)"
   ],
   "metadata": {
    "collapsed": false
   }
  },
  {
   "cell_type": "code",
   "execution_count": 23,
   "outputs": [
    {
     "data": {
      "text/plain": "<Figure size 640x480 with 1 Axes>",
      "image/png": "[encoded data removed]"
     },
     "metadata": {},
     "output_type": "display_data"
    }
   ],
   "source": [
    "from matplotlib import pyplot as plt\n",
    "\n",
    "raw = np.zeros(shape=(100, ))\n",
    "raw[18:25] = 61.5\n",
    "raw[25:55] = 87.6\n",
    "raw[55:65] = 35.3\n",
    "\n",
    "blurred = cv2.GaussianBlur(raw.reshape(raw.shape[0], 1), (25, 25), 0)\n",
    "\n",
    "blurred[0:18] = 0\n",
    "blurred[65:100] = 0\n",
    "\n",
    "plt.plot(raw)\n",
    "plt.plot(blurred)\n",
    "plt.show()"
   ],
   "metadata": {
    "collapsed": false
   }
  },
  {
   "cell_type": "code",
   "execution_count": 28,
   "outputs": [
    {
     "name": "stdout",
     "output_type": "stream",
     "text": [
      "[0.         0.         0.         0.1541253  0.59703641 0.79458234\n",
      " 0.86543127 0.87572028 0.87543949 0.85482205 0.72834824 0.48597934\n",
      " 0.27477541 0.         0.         0.        ]\n"
     ]
    },
    {
     "data": {
      "text/plain": "<Figure size 640x480 with 1 Axes>",
      "image/png": "[encoded data removed]"
     },
     "metadata": {},
     "output_type": "display_data"
    }
   ],
   "source": [
    "rslt = stratification(blurred) / 100\n",
    "\n",
    "print(rslt)\n",
    "plt.plot(rslt)\n",
    "plt.show()"
   ],
   "metadata": {
    "collapsed": false
   }
  }
 ],
 "metadata": {
  "kernelspec": {
   "display_name": "Python 3",
   "language": "python",
   "name": "python3"
  },
  "language_info": {
   "codemirror_mode": {
    "name": "ipython",
    "version": 2
   },
   "file_extension": ".py",
   "mimetype": "text/x-python",
   "name": "python",
   "nbconvert_exporter": "python",
   "pygments_lexer": "ipython2",
   "version": "2.7.6"
  }
 },
 "nbformat": 4,
 "nbformat_minor": 0
}
