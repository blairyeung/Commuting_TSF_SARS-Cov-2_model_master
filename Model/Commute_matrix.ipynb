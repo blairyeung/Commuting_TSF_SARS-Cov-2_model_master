{
 "cells": [
  {
   "cell_type": "code",
   "execution_count": 26,
   "metadata": {
    "collapsed": true
   },
   "outputs": [],
   "source": [
    "import math\n",
    "import os\n",
    "\n",
    "import pandas as pd\n",
    "from scipy.stats import gamma\n",
    "from scipy.stats import lognorm\n",
    "from scipy.stats import norm\n",
    "from Util import normalize\n",
    "import matplotlib.pyplot as plt\n",
    "import numpy as np\n",
    "import Parameters\n",
    "import datetime\n",
    "import cv2"
   ]
  },
  {
   "cell_type": "code",
   "execution_count": 27,
   "outputs": [
    {
     "name": "stdout",
     "output_type": "stream",
     "text": [
      "      GEO_CODE_(POR)           GEO_NAME  GEO_CODE_(POW)         GEO_NAME.1  \\\n",
      "0            3501005    South_Glengarry         3520005            Toronto   \n",
      "1            3501005    South_Glengarry         3507015         Brockville   \n",
      "2            3501005    South_Glengarry         3506008             Ottawa   \n",
      "3            3501005    South_Glengarry         3502010          Champlain   \n",
      "4            3501005    South_Glengarry         3502008         Hawkesbury   \n",
      "...              ...                ...             ...                ...   \n",
      "5210         3560095      Bearskin_Lake         3560095      Bearskin_Lake   \n",
      "5211         3560096    Kasabonika_Lake         3560096    Kasabonika_Lake   \n",
      "5212         3560097   Muskrat_Dam_Lake         3560097   Muskrat_Dam_Lake   \n",
      "5213         3560098  Kingfisher_Lake_1         3560098  Kingfisher_Lake_1   \n",
      "5214         3560104        Kee-Way-Win         3560104        Kee-Way-Win   \n",
      "\n",
      "      Dim:_Sex_(3):_Member_ID:_[1]:_Total_-_Sex  \\\n",
      "0                                            35   \n",
      "1                                            25   \n",
      "2                                           140   \n",
      "3                                            25   \n",
      "4                                            30   \n",
      "...                                         ...   \n",
      "5210                                        130   \n",
      "5211                                        160   \n",
      "5212                                         95   \n",
      "5213                                        155   \n",
      "5214                                         90   \n",
      "\n",
      "      Dim:_Sex_(3):_Member_ID:_[2]:_Male  Dim:_Sex_(3):_Member_ID:_[3]:_Female  \n",
      "0                                     20                                    15  \n",
      "1                                     15                                    10  \n",
      "2                                     75                                    60  \n",
      "3                                     20                                    10  \n",
      "4                                     15                                    10  \n",
      "...                                  ...                                   ...  \n",
      "5210                                  65                                    60  \n",
      "5211                                  80                                    75  \n",
      "5212                                  45                                    50  \n",
      "5213                                  70                                    85  \n",
      "5214                                  35                                    50  \n",
      "\n",
      "[5215 rows x 7 columns]\n"
     ]
    }
   ],
   "source": [
    "path = os.getcwd()[:-5] + 'Model Dependencies/Ontario_commute.csv'\n",
    "df = pd.read_csv(path)\n",
    "print(df)"
   ],
   "metadata": {
    "collapsed": false
   }
  },
  {
   "cell_type": "code",
   "execution_count": 28,
   "outputs": [],
   "source": [
    "df['District (POR)'] = (df['GEO_CODE_(POR)'] / 1000).astype(int)\n",
    "df['District (POW)'] = (df['GEO_CODE_(POW)'] / 1000).astype(int)"
   ],
   "metadata": {
    "collapsed": false
   }
  },
  {
   "cell_type": "code",
   "execution_count": 29,
   "outputs": [],
   "source": [
    "PORs = []\n",
    "POWs = []\n",
    "for i in range(len(df)):\n",
    "    row = df.iloc[i]\n",
    "    # print(row)\n",
    "    if row['District (POR)'] not in PORs:\n",
    "        PORs.append(row['District (POR)'])\n",
    "    if row['District (POW)'] not in POWs:\n",
    "        POWs.append(row['District (POW)'])"
   ],
   "metadata": {
    "collapsed": false
   }
  },
  {
   "cell_type": "code",
   "execution_count": 30,
   "outputs": [],
   "source": [
    "rslt = np.ones(shape=(len(PORs), len(POWs)), dtype=int)\n",
    "for i in range(len(df)):\n",
    "    row = df.iloc[i]\n",
    "    POR_ind =  PORs.index(row['District (POR)'])\n",
    "    POW_ind =  POWs.index(row['District (POW)'])\n",
    "    rslt[POR_ind][POW_ind] += row['Dim:_Sex_(3):_Member_ID:_[1]:_Total_-_Sex']"
   ],
   "metadata": {
    "collapsed": false
   }
  },
  {
   "cell_type": "code",
   "execution_count": 31,
   "outputs": [],
   "source": [
    "rslt_file = []\n",
    "for i in PORs:\n",
    "    for j in POWs:\n",
    "        rslt_row = [i, j, rslt[PORs.index(i)][POWs.index(j)]]\n",
    "        rslt_file.append(rslt_row)"
   ],
   "metadata": {
    "collapsed": false
   }
  },
  {
   "cell_type": "code",
   "execution_count": 32,
   "outputs": [],
   "source": [
    "df = pd.DataFrame(rslt_file, columns=[\"POR\", \"POW\", \"Total_worker\"])"
   ],
   "metadata": {
    "collapsed": false
   }
  },
  {
   "cell_type": "code",
   "execution_count": 33,
   "outputs": [],
   "source": [
    "df.to_csv(os.getcwd()[:-5] + 'Model Dependencies/Ontario_commute_district.csv')"
   ],
   "metadata": {
    "collapsed": false
   }
  },
  {
   "cell_type": "code",
   "execution_count": 20,
   "outputs": [
    {
     "data": {
      "text/plain": "<Figure size 640x480 with 2 Axes>",
      "image/png": "[encoded data removed]"
     },
     "metadata": {},
     "output_type": "display_data"
    }
   ],
   "source": [
    "plt.imshow(rslt)\n",
    "plt.colorbar()\n",
    "plt.show()"
   ],
   "metadata": {
    "collapsed": false
   }
  },
  {
   "cell_type": "code",
   "execution_count": null,
   "outputs": [],
   "source": [
    "new_df = rslt."
   ],
   "metadata": {
    "collapsed": false
   }
  }
 ],
 "metadata": {
  "kernelspec": {
   "display_name": "Python 3",
   "language": "python",
   "name": "python3"
  },
  "language_info": {
   "codemirror_mode": {
    "name": "ipython",
    "version": 2
   },
   "file_extension": ".py",
   "mimetype": "text/x-python",
   "name": "python",
   "nbconvert_exporter": "python",
   "pygments_lexer": "ipython2",
   "version": "2.7.6"
  }
 },
 "nbformat": 4,
 "nbformat_minor": 0
}
